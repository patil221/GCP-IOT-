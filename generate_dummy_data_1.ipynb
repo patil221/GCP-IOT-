{
 "cells": [
  {
   "cell_type": "code",
   "execution_count": 1,
   "id": "967a1c69",
   "metadata": {},
   "outputs": [],
   "source": [
    "from faker import Faker\n"
   ]
  },
  {
   "cell_type": "code",
   "execution_count": 2,
   "id": "711731d3",
   "metadata": {},
   "outputs": [
    {
     "data": {
      "text/html": [
       "<div>\n",
       "<style scoped>\n",
       "    .dataframe tbody tr th:only-of-type {\n",
       "        vertical-align: middle;\n",
       "    }\n",
       "\n",
       "    .dataframe tbody tr th {\n",
       "        vertical-align: top;\n",
       "    }\n",
       "\n",
       "    .dataframe thead th {\n",
       "        text-align: right;\n",
       "    }\n",
       "</style>\n",
       "<table border=\"1\" class=\"dataframe\">\n",
       "  <thead>\n",
       "    <tr style=\"text-align: right;\">\n",
       "      <th></th>\n",
       "      <th>ID</th>\n",
       "      <th>Temp</th>\n",
       "      <th>noted Date</th>\n",
       "      <th>Status</th>\n",
       "      <th>room_id</th>\n",
       "    </tr>\n",
       "  </thead>\n",
       "  <tbody>\n",
       "    <tr>\n",
       "      <th>0</th>\n",
       "      <td>9281077641</td>\n",
       "      <td>54</td>\n",
       "      <td>2022-08-04 16:16:31</td>\n",
       "      <td>in</td>\n",
       "      <td>FL1_RM4</td>\n",
       "    </tr>\n",
       "    <tr>\n",
       "      <th>1</th>\n",
       "      <td>6951969362</td>\n",
       "      <td>61</td>\n",
       "      <td>2022-08-04 16:18:39</td>\n",
       "      <td>out</td>\n",
       "      <td>FL2_RM2</td>\n",
       "    </tr>\n",
       "    <tr>\n",
       "      <th>2</th>\n",
       "      <td>2001239596</td>\n",
       "      <td>80</td>\n",
       "      <td>2022-08-04 16:19:24</td>\n",
       "      <td>out</td>\n",
       "      <td>FL3_RM2</td>\n",
       "    </tr>\n",
       "    <tr>\n",
       "      <th>3</th>\n",
       "      <td>1430783849</td>\n",
       "      <td>98</td>\n",
       "      <td>2022-08-04 16:17:51</td>\n",
       "      <td>out</td>\n",
       "      <td>FL4_RM2</td>\n",
       "    </tr>\n",
       "    <tr>\n",
       "      <th>4</th>\n",
       "      <td>4277196915</td>\n",
       "      <td>0</td>\n",
       "      <td>2022-08-04 16:19:44</td>\n",
       "      <td>in</td>\n",
       "      <td>FL1_RM2</td>\n",
       "    </tr>\n",
       "  </tbody>\n",
       "</table>\n",
       "</div>"
      ],
      "text/plain": [
       "           ID  Temp          noted Date Status  room_id\n",
       "0  9281077641    54 2022-08-04 16:16:31     in  FL1_RM4\n",
       "1  6951969362    61 2022-08-04 16:18:39    out  FL2_RM2\n",
       "2  2001239596    80 2022-08-04 16:19:24    out  FL3_RM2\n",
       "3  1430783849    98 2022-08-04 16:17:51    out  FL4_RM2\n",
       "4  4277196915     0 2022-08-04 16:19:44     in  FL1_RM2"
      ]
     },
     "execution_count": 2,
     "metadata": {},
     "output_type": "execute_result"
    }
   ],
   "source": [
    "import pandas as pd\n",
    "import numpy as np\n",
    "import faker\n",
    "\n",
    "# create some fake data\n",
    "fake = Faker()\n",
    "\n",
    "# function to create a dataframe with fake values for our workers\n",
    "def make_workers(num):\n",
    "    \n",
    "    # lists to randomly assign to workers\n",
    "    status_list = ['in', 'out']\n",
    "    team_list = ['FL1_RM1','FL1_RM2','FL1_RM3', 'FL1_RM4', 'FL2_RM1', 'FL2_RM2','FL2_RM3','FL2_RM4', 'FL3_RM1', 'FL3_RM2','FL3_RM3', 'FL3_RM4', 'FL4_RM1','FL4_RM2','FL4_RM3', 'FL4_RM4']\n",
    "    \n",
    "\n",
    "    fake_workers = [{'ID':fake.random_number(digits=1),\n",
    "                  'Temp':fake.random_number(digits=2), \n",
    "                  'noted Date':fake.date_time_between(start_date='-6m', end_date='-1m'),\n",
    "                  'Status':np.random.choice(status_list), # assign items from list with different probabilities\n",
    "                  'room_id':np.random.choice(team_list)} for x in range(num)]\n",
    "        \n",
    "    return fake_workers\n",
    "\n",
    "worker_df = pd.DataFrame(make_workers(num=50000))\n",
    "worker_df.head()"
   ]
  },
  {
   "cell_type": "code",
   "execution_count": null,
   "id": "9219e978",
   "metadata": {},
   "outputs": [],
   "source": [
    "dummy_data = worker_df.to_json(orient='index')"
   ]
  },
  {
   "cell_type": "code",
   "execution_count": null,
   "id": "dc66bfd9",
   "metadata": {},
   "outputs": [],
   "source": [
    "with open('dummy.json', 'w') as fp:\n",
    "        json.dump(dummy_data, fp)"
   ]
  },
  {
   "cell_type": "code",
   "execution_count": null,
   "id": "ae01d306",
   "metadata": {},
   "outputs": [],
   "source": [
    "worker_df.to_csv(\"Dummy_data.csv\")"
   ]
  }
 ],
 "metadata": {
  "kernelspec": {
   "display_name": "Python 3 (ipykernel)",
   "language": "python",
   "name": "python3"
  },
  "language_info": {
   "codemirror_mode": {
    "name": "ipython",
    "version": 3
   },
   "file_extension": ".py",
   "mimetype": "text/x-python",
   "name": "python",
   "nbconvert_exporter": "python",
   "pygments_lexer": "ipython3",
   "version": "3.9.7"
  }
 },
 "nbformat": 4,
 "nbformat_minor": 5
}
