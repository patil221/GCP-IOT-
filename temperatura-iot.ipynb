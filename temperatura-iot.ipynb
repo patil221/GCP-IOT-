{
 "cells": [
  {
   "cell_type": "code",
   "execution_count": 1,
   "id": "5e9f9c8c",
   "metadata": {
    "_cell_guid": "b1076dfc-b9ad-4769-8c92-a6c4dae69d19",
    "_uuid": "8f2839f25d086af736a60e9eeb907d3b93b6e0e5",
    "execution": {
     "iopub.execute_input": "2022-03-23T22:37:28.836647Z",
     "iopub.status.busy": "2022-03-23T22:37:28.834763Z",
     "iopub.status.idle": "2022-03-23T22:37:34.914531Z",
     "shell.execute_reply": "2022-03-23T22:37:34.913405Z",
     "shell.execute_reply.started": "2022-03-23T22:28:48.788859Z"
    },
    "id": "hVckYjMlbbfq",
    "papermill": {
     "duration": 6.156748,
     "end_time": "2022-03-23T22:37:34.914711",
     "exception": false,
     "start_time": "2022-03-23T22:37:28.757963",
     "status": "completed"
    },
    "tags": []
   },
   "outputs": [],
   "source": [
    "#importando as bibliotecas\n",
    "import pandas as pd\n",
    "import numpy as np\n",
    "import tensorflow as tf\n",
    "from tensorflow.keras import Model\n",
    "from tensorflow.keras.layers import Dense, Flatten, LSTM\n",
    "import matplotlib.pyplot as plt"
   ]
  },
  {
   "cell_type": "code",
   "execution_count": 2,
   "id": "c94c6451",
   "metadata": {
    "_cell_guid": "",
    "_uuid": "",
    "execution": {
     "iopub.execute_input": "2022-03-23T22:37:35.061284Z",
     "iopub.status.busy": "2022-03-23T22:37:35.060565Z",
     "iopub.status.idle": "2022-03-23T22:37:35.300669Z",
     "shell.execute_reply": "2022-03-23T22:37:35.300049Z",
     "shell.execute_reply.started": "2022-03-23T22:28:48.804234Z"
    },
    "id": "NHRdVLCSbbfy",
    "outputId": "63c1d939-8f66-4d94-e518-280b653c42da",
    "papermill": {
     "duration": 0.314688,
     "end_time": "2022-03-23T22:37:35.300832",
     "exception": false,
     "start_time": "2022-03-23T22:37:34.986144",
     "status": "completed"
    },
    "tags": []
   },
   "outputs": [],
   "source": [
    "import pandas as pd\n",
    "IOT_temp = pd.read_csv(\"../input/temperature-readings-iot-devices/IOT-temp.csv\")"
   ]
  },
  {
   "cell_type": "code",
   "execution_count": 3,
   "id": "0f655d78",
   "metadata": {
    "execution": {
     "iopub.execute_input": "2022-03-23T22:37:35.447718Z",
     "iopub.status.busy": "2022-03-23T22:37:35.446991Z",
     "iopub.status.idle": "2022-03-23T22:37:35.461157Z",
     "shell.execute_reply": "2022-03-23T22:37:35.461675Z",
     "shell.execute_reply.started": "2022-03-23T22:28:49.011519Z"
    },
    "id": "-SMCqVSfbbfz",
    "outputId": "336f17ac-20c8-4775-8974-c4a9757550b2",
    "papermill": {
     "duration": 0.092218,
     "end_time": "2022-03-23T22:37:35.461853",
     "exception": false,
     "start_time": "2022-03-23T22:37:35.369635",
     "status": "completed"
    },
    "tags": []
   },
   "outputs": [
    {
     "data": {
      "text/html": [
       "<div>\n",
       "<style scoped>\n",
       "    .dataframe tbody tr th:only-of-type {\n",
       "        vertical-align: middle;\n",
       "    }\n",
       "\n",
       "    .dataframe tbody tr th {\n",
       "        vertical-align: top;\n",
       "    }\n",
       "\n",
       "    .dataframe thead th {\n",
       "        text-align: right;\n",
       "    }\n",
       "</style>\n",
       "<table border=\"1\" class=\"dataframe\">\n",
       "  <thead>\n",
       "    <tr style=\"text-align: right;\">\n",
       "      <th></th>\n",
       "      <th>id</th>\n",
       "      <th>room_id/id</th>\n",
       "      <th>noted_date</th>\n",
       "      <th>temp</th>\n",
       "      <th>out/in</th>\n",
       "    </tr>\n",
       "  </thead>\n",
       "  <tbody>\n",
       "    <tr>\n",
       "      <th>0</th>\n",
       "      <td>__export__.temp_log_196134_bd201015</td>\n",
       "      <td>Room Admin</td>\n",
       "      <td>08-12-2018 09:30</td>\n",
       "      <td>29</td>\n",
       "      <td>In</td>\n",
       "    </tr>\n",
       "    <tr>\n",
       "      <th>1</th>\n",
       "      <td>__export__.temp_log_196131_7bca51bc</td>\n",
       "      <td>Room Admin</td>\n",
       "      <td>08-12-2018 09:30</td>\n",
       "      <td>29</td>\n",
       "      <td>In</td>\n",
       "    </tr>\n",
       "    <tr>\n",
       "      <th>2</th>\n",
       "      <td>__export__.temp_log_196127_522915e3</td>\n",
       "      <td>Room Admin</td>\n",
       "      <td>08-12-2018 09:29</td>\n",
       "      <td>41</td>\n",
       "      <td>Out</td>\n",
       "    </tr>\n",
       "    <tr>\n",
       "      <th>3</th>\n",
       "      <td>__export__.temp_log_196128_be0919cf</td>\n",
       "      <td>Room Admin</td>\n",
       "      <td>08-12-2018 09:29</td>\n",
       "      <td>41</td>\n",
       "      <td>Out</td>\n",
       "    </tr>\n",
       "    <tr>\n",
       "      <th>4</th>\n",
       "      <td>__export__.temp_log_196126_d30b72fb</td>\n",
       "      <td>Room Admin</td>\n",
       "      <td>08-12-2018 09:29</td>\n",
       "      <td>31</td>\n",
       "      <td>In</td>\n",
       "    </tr>\n",
       "  </tbody>\n",
       "</table>\n",
       "</div>"
      ],
      "text/plain": [
       "                                    id  room_id/id        noted_date  temp  \\\n",
       "0  __export__.temp_log_196134_bd201015  Room Admin  08-12-2018 09:30    29   \n",
       "1  __export__.temp_log_196131_7bca51bc  Room Admin  08-12-2018 09:30    29   \n",
       "2  __export__.temp_log_196127_522915e3  Room Admin  08-12-2018 09:29    41   \n",
       "3  __export__.temp_log_196128_be0919cf  Room Admin  08-12-2018 09:29    41   \n",
       "4  __export__.temp_log_196126_d30b72fb  Room Admin  08-12-2018 09:29    31   \n",
       "\n",
       "  out/in  \n",
       "0     In  \n",
       "1     In  \n",
       "2    Out  \n",
       "3    Out  \n",
       "4     In  "
      ]
     },
     "execution_count": 3,
     "metadata": {},
     "output_type": "execute_result"
    }
   ],
   "source": [
    "#conhecendo o dataset\n",
    "IOT_temp.head(5)"
   ]
  },
  {
   "cell_type": "code",
   "execution_count": 4,
   "id": "71ee0608",
   "metadata": {
    "execution": {
     "iopub.execute_input": "2022-03-23T22:37:35.609297Z",
     "iopub.status.busy": "2022-03-23T22:37:35.608540Z",
     "iopub.status.idle": "2022-03-23T22:37:35.670172Z",
     "shell.execute_reply": "2022-03-23T22:37:35.670696Z",
     "shell.execute_reply.started": "2022-03-23T22:28:49.026851Z"
    },
    "id": "VK6SMeLYbbf0",
    "outputId": "27400406-bf88-49d9-c2cd-4424e0e3fa7e",
    "papermill": {
     "duration": 0.13891,
     "end_time": "2022-03-23T22:37:35.670875",
     "exception": false,
     "start_time": "2022-03-23T22:37:35.531965",
     "status": "completed"
    },
    "tags": []
   },
   "outputs": [
    {
     "name": "stdout",
     "output_type": "stream",
     "text": [
      "<class 'pandas.core.frame.DataFrame'>\n",
      "RangeIndex: 97606 entries, 0 to 97605\n",
      "Data columns (total 5 columns):\n",
      " #   Column      Non-Null Count  Dtype \n",
      "---  ------      --------------  ----- \n",
      " 0   id          97606 non-null  object\n",
      " 1   room_id/id  97606 non-null  object\n",
      " 2   noted_date  97606 non-null  object\n",
      " 3   temp        97606 non-null  int64 \n",
      " 4   out/in      97606 non-null  object\n",
      "dtypes: int64(1), object(4)\n",
      "memory usage: 3.7+ MB\n"
     ]
    }
   ],
   "source": [
    "#conhecendo o BD\n",
    "IOT_temp.info()"
   ]
  },
  {
   "cell_type": "code",
   "execution_count": 5,
   "id": "bdd64633",
   "metadata": {
    "execution": {
     "iopub.execute_input": "2022-03-23T22:37:35.814455Z",
     "iopub.status.busy": "2022-03-23T22:37:35.813802Z",
     "iopub.status.idle": "2022-03-23T22:37:35.830426Z",
     "shell.execute_reply": "2022-03-23T22:37:35.830877Z",
     "shell.execute_reply.started": "2022-03-23T22:28:49.068463Z"
    },
    "id": "bx8y_qKSbbf0",
    "outputId": "347921eb-6809-4cb0-f033-7eb9308cc01c",
    "papermill": {
     "duration": 0.090072,
     "end_time": "2022-03-23T22:37:35.831048",
     "exception": false,
     "start_time": "2022-03-23T22:37:35.740976",
     "status": "completed"
    },
    "tags": []
   },
   "outputs": [
    {
     "data": {
      "text/html": [
       "<div>\n",
       "<style scoped>\n",
       "    .dataframe tbody tr th:only-of-type {\n",
       "        vertical-align: middle;\n",
       "    }\n",
       "\n",
       "    .dataframe tbody tr th {\n",
       "        vertical-align: top;\n",
       "    }\n",
       "\n",
       "    .dataframe thead th {\n",
       "        text-align: right;\n",
       "    }\n",
       "</style>\n",
       "<table border=\"1\" class=\"dataframe\">\n",
       "  <thead>\n",
       "    <tr style=\"text-align: right;\">\n",
       "      <th></th>\n",
       "      <th>temp</th>\n",
       "    </tr>\n",
       "  </thead>\n",
       "  <tbody>\n",
       "    <tr>\n",
       "      <th>count</th>\n",
       "      <td>97606.000000</td>\n",
       "    </tr>\n",
       "    <tr>\n",
       "      <th>mean</th>\n",
       "      <td>35.053931</td>\n",
       "    </tr>\n",
       "    <tr>\n",
       "      <th>std</th>\n",
       "      <td>5.699825</td>\n",
       "    </tr>\n",
       "    <tr>\n",
       "      <th>min</th>\n",
       "      <td>21.000000</td>\n",
       "    </tr>\n",
       "    <tr>\n",
       "      <th>25%</th>\n",
       "      <td>30.000000</td>\n",
       "    </tr>\n",
       "    <tr>\n",
       "      <th>50%</th>\n",
       "      <td>35.000000</td>\n",
       "    </tr>\n",
       "    <tr>\n",
       "      <th>75%</th>\n",
       "      <td>40.000000</td>\n",
       "    </tr>\n",
       "    <tr>\n",
       "      <th>max</th>\n",
       "      <td>51.000000</td>\n",
       "    </tr>\n",
       "  </tbody>\n",
       "</table>\n",
       "</div>"
      ],
      "text/plain": [
       "               temp\n",
       "count  97606.000000\n",
       "mean      35.053931\n",
       "std        5.699825\n",
       "min       21.000000\n",
       "25%       30.000000\n",
       "50%       35.000000\n",
       "75%       40.000000\n",
       "max       51.000000"
      ]
     },
     "execution_count": 5,
     "metadata": {},
     "output_type": "execute_result"
    }
   ],
   "source": [
    "#obtendo a \"estatística inicial\"\n",
    "IOT_temp.describe()"
   ]
  },
  {
   "cell_type": "code",
   "execution_count": 6,
   "id": "2421da52",
   "metadata": {
    "execution": {
     "iopub.execute_input": "2022-03-23T22:37:35.976994Z",
     "iopub.status.busy": "2022-03-23T22:37:35.976365Z",
     "iopub.status.idle": "2022-03-23T22:37:36.032695Z",
     "shell.execute_reply": "2022-03-23T22:37:36.033256Z",
     "shell.execute_reply.started": "2022-03-23T22:28:49.092796Z"
    },
    "id": "fD6onO75bbf1",
    "outputId": "c9f87092-d6b2-4775-ad18-4dd3cadbf3e2",
    "papermill": {
     "duration": 0.131831,
     "end_time": "2022-03-23T22:37:36.033438",
     "exception": false,
     "start_time": "2022-03-23T22:37:35.901607",
     "status": "completed"
    },
    "tags": []
   },
   "outputs": [
    {
     "data": {
      "text/html": [
       "<div>\n",
       "<style scoped>\n",
       "    .dataframe tbody tr th:only-of-type {\n",
       "        vertical-align: middle;\n",
       "    }\n",
       "\n",
       "    .dataframe tbody tr th {\n",
       "        vertical-align: top;\n",
       "    }\n",
       "\n",
       "    .dataframe thead th {\n",
       "        text-align: right;\n",
       "    }\n",
       "</style>\n",
       "<table border=\"1\" class=\"dataframe\">\n",
       "  <thead>\n",
       "    <tr style=\"text-align: right;\">\n",
       "      <th></th>\n",
       "      <th>id</th>\n",
       "      <th>room_id/id</th>\n",
       "      <th>noted_date</th>\n",
       "      <th>temp</th>\n",
       "    </tr>\n",
       "    <tr>\n",
       "      <th>out/in</th>\n",
       "      <th></th>\n",
       "      <th></th>\n",
       "      <th></th>\n",
       "      <th></th>\n",
       "    </tr>\n",
       "  </thead>\n",
       "  <tbody>\n",
       "    <tr>\n",
       "      <th>In</th>\n",
       "      <td>20345</td>\n",
       "      <td>20345</td>\n",
       "      <td>20345</td>\n",
       "      <td>20345</td>\n",
       "    </tr>\n",
       "    <tr>\n",
       "      <th>Out</th>\n",
       "      <td>77261</td>\n",
       "      <td>77261</td>\n",
       "      <td>77261</td>\n",
       "      <td>77261</td>\n",
       "    </tr>\n",
       "  </tbody>\n",
       "</table>\n",
       "</div>"
      ],
      "text/plain": [
       "           id  room_id/id  noted_date   temp\n",
       "out/in                                      \n",
       "In      20345       20345       20345  20345\n",
       "Out     77261       77261       77261  77261"
      ]
     },
     "execution_count": 6,
     "metadata": {},
     "output_type": "execute_result"
    }
   ],
   "source": [
    "#Contando quantos valores de temperaturas são In ou Out\n",
    "IOT_temp.groupby(\"out/in\").count()"
   ]
  },
  {
   "cell_type": "code",
   "execution_count": 7,
   "id": "28c7ffb5",
   "metadata": {
    "execution": {
     "iopub.execute_input": "2022-03-23T22:37:36.197082Z",
     "iopub.status.busy": "2022-03-23T22:37:36.195991Z",
     "iopub.status.idle": "2022-03-23T22:37:36.234098Z",
     "shell.execute_reply": "2022-03-23T22:37:36.233509Z",
     "shell.execute_reply.started": "2022-03-23T22:28:49.137457Z"
    },
    "id": "CaeJQMdfbbf1",
    "outputId": "d00835b9-41ae-4fed-ac9b-b41780cbfd5b",
    "papermill": {
     "duration": 0.12958,
     "end_time": "2022-03-23T22:37:36.234272",
     "exception": false,
     "start_time": "2022-03-23T22:37:36.104692",
     "status": "completed"
    },
    "tags": []
   },
   "outputs": [
    {
     "data": {
      "text/html": [
       "<div>\n",
       "<style scoped>\n",
       "    .dataframe tbody tr th:only-of-type {\n",
       "        vertical-align: middle;\n",
       "    }\n",
       "\n",
       "    .dataframe tbody tr th {\n",
       "        vertical-align: top;\n",
       "    }\n",
       "\n",
       "    .dataframe thead th {\n",
       "        text-align: right;\n",
       "    }\n",
       "</style>\n",
       "<table border=\"1\" class=\"dataframe\">\n",
       "  <thead>\n",
       "    <tr style=\"text-align: right;\">\n",
       "      <th></th>\n",
       "      <th>id</th>\n",
       "      <th>room_id/id</th>\n",
       "      <th>noted_date</th>\n",
       "      <th>temp</th>\n",
       "      <th>out/in</th>\n",
       "    </tr>\n",
       "  </thead>\n",
       "  <tbody>\n",
       "    <tr>\n",
       "      <th>2</th>\n",
       "      <td>__export__.temp_log_196127_522915e3</td>\n",
       "      <td>Room Admin</td>\n",
       "      <td>08-12-2018 09:29</td>\n",
       "      <td>41</td>\n",
       "      <td>Out</td>\n",
       "    </tr>\n",
       "    <tr>\n",
       "      <th>3</th>\n",
       "      <td>__export__.temp_log_196128_be0919cf</td>\n",
       "      <td>Room Admin</td>\n",
       "      <td>08-12-2018 09:29</td>\n",
       "      <td>41</td>\n",
       "      <td>Out</td>\n",
       "    </tr>\n",
       "    <tr>\n",
       "      <th>10</th>\n",
       "      <td>__export__.temp_log_196108_4a983c7e</td>\n",
       "      <td>Room Admin</td>\n",
       "      <td>08-12-2018 09:25</td>\n",
       "      <td>42</td>\n",
       "      <td>Out</td>\n",
       "    </tr>\n",
       "    <tr>\n",
       "      <th>11</th>\n",
       "      <td>__export__.temp_log_196108_4a983c7e</td>\n",
       "      <td>Room Admin</td>\n",
       "      <td>08-12-2018 09:25</td>\n",
       "      <td>42</td>\n",
       "      <td>Out</td>\n",
       "    </tr>\n",
       "    <tr>\n",
       "      <th>16</th>\n",
       "      <td>__export__.temp_log_196094_38501388</td>\n",
       "      <td>Room Admin</td>\n",
       "      <td>08-12-2018 09:21</td>\n",
       "      <td>41</td>\n",
       "      <td>Out</td>\n",
       "    </tr>\n",
       "  </tbody>\n",
       "</table>\n",
       "</div>"
      ],
      "text/plain": [
       "                                     id  room_id/id        noted_date  temp  \\\n",
       "2   __export__.temp_log_196127_522915e3  Room Admin  08-12-2018 09:29    41   \n",
       "3   __export__.temp_log_196128_be0919cf  Room Admin  08-12-2018 09:29    41   \n",
       "10  __export__.temp_log_196108_4a983c7e  Room Admin  08-12-2018 09:25    42   \n",
       "11  __export__.temp_log_196108_4a983c7e  Room Admin  08-12-2018 09:25    42   \n",
       "16  __export__.temp_log_196094_38501388  Room Admin  08-12-2018 09:21    41   \n",
       "\n",
       "   out/in  \n",
       "2     Out  \n",
       "3     Out  \n",
       "10    Out  \n",
       "11    Out  \n",
       "16    Out  "
      ]
     },
     "execution_count": 7,
     "metadata": {},
     "output_type": "execute_result"
    }
   ],
   "source": [
    "#separando o dataset entre valores de In e Out\n",
    "df_in=IOT_temp[IOT_temp[\"out/in\"]==\"In\"]\n",
    "df_out=IOT_temp[IOT_temp[\"out/in\"]==\"Out\"]\n",
    "df_out.head(5)"
   ]
  },
  {
   "cell_type": "code",
   "execution_count": 8,
   "id": "dd91589a",
   "metadata": {
    "execution": {
     "iopub.execute_input": "2022-03-23T22:37:36.380229Z",
     "iopub.status.busy": "2022-03-23T22:37:36.379604Z",
     "iopub.status.idle": "2022-03-23T22:37:36.391959Z",
     "shell.execute_reply": "2022-03-23T22:37:36.391455Z",
     "shell.execute_reply.started": "2022-03-23T22:28:49.176254Z"
    },
    "id": "zblfRCTIbbf2",
    "outputId": "47a61606-d094-4d87-b522-652faebaf923",
    "papermill": {
     "duration": 0.08644,
     "end_time": "2022-03-23T22:37:36.392110",
     "exception": false,
     "start_time": "2022-03-23T22:37:36.305670",
     "status": "completed"
    },
    "tags": []
   },
   "outputs": [
    {
     "data": {
      "text/html": [
       "<div>\n",
       "<style scoped>\n",
       "    .dataframe tbody tr th:only-of-type {\n",
       "        vertical-align: middle;\n",
       "    }\n",
       "\n",
       "    .dataframe tbody tr th {\n",
       "        vertical-align: top;\n",
       "    }\n",
       "\n",
       "    .dataframe thead th {\n",
       "        text-align: right;\n",
       "    }\n",
       "</style>\n",
       "<table border=\"1\" class=\"dataframe\">\n",
       "  <thead>\n",
       "    <tr style=\"text-align: right;\">\n",
       "      <th></th>\n",
       "      <th>id</th>\n",
       "      <th>room_id/id</th>\n",
       "      <th>noted_date</th>\n",
       "      <th>temp</th>\n",
       "      <th>out/in</th>\n",
       "    </tr>\n",
       "  </thead>\n",
       "  <tbody>\n",
       "    <tr>\n",
       "      <th>2</th>\n",
       "      <td>__export__.temp_log_196127_522915e3</td>\n",
       "      <td>Room Admin</td>\n",
       "      <td>08-12-2018 09:29</td>\n",
       "      <td>41</td>\n",
       "      <td>Out</td>\n",
       "    </tr>\n",
       "    <tr>\n",
       "      <th>3</th>\n",
       "      <td>__export__.temp_log_196128_be0919cf</td>\n",
       "      <td>Room Admin</td>\n",
       "      <td>08-12-2018 09:29</td>\n",
       "      <td>41</td>\n",
       "      <td>Out</td>\n",
       "    </tr>\n",
       "    <tr>\n",
       "      <th>10</th>\n",
       "      <td>__export__.temp_log_196108_4a983c7e</td>\n",
       "      <td>Room Admin</td>\n",
       "      <td>08-12-2018 09:25</td>\n",
       "      <td>42</td>\n",
       "      <td>Out</td>\n",
       "    </tr>\n",
       "    <tr>\n",
       "      <th>11</th>\n",
       "      <td>__export__.temp_log_196108_4a983c7e</td>\n",
       "      <td>Room Admin</td>\n",
       "      <td>08-12-2018 09:25</td>\n",
       "      <td>42</td>\n",
       "      <td>Out</td>\n",
       "    </tr>\n",
       "    <tr>\n",
       "      <th>16</th>\n",
       "      <td>__export__.temp_log_196094_38501388</td>\n",
       "      <td>Room Admin</td>\n",
       "      <td>08-12-2018 09:21</td>\n",
       "      <td>41</td>\n",
       "      <td>Out</td>\n",
       "    </tr>\n",
       "  </tbody>\n",
       "</table>\n",
       "</div>"
      ],
      "text/plain": [
       "                                     id  room_id/id        noted_date  temp  \\\n",
       "2   __export__.temp_log_196127_522915e3  Room Admin  08-12-2018 09:29    41   \n",
       "3   __export__.temp_log_196128_be0919cf  Room Admin  08-12-2018 09:29    41   \n",
       "10  __export__.temp_log_196108_4a983c7e  Room Admin  08-12-2018 09:25    42   \n",
       "11  __export__.temp_log_196108_4a983c7e  Room Admin  08-12-2018 09:25    42   \n",
       "16  __export__.temp_log_196094_38501388  Room Admin  08-12-2018 09:21    41   \n",
       "\n",
       "   out/in  \n",
       "2     Out  \n",
       "3     Out  \n",
       "10    Out  \n",
       "11    Out  \n",
       "16    Out  "
      ]
     },
     "execution_count": 8,
     "metadata": {},
     "output_type": "execute_result"
    }
   ],
   "source": [
    "df_out.head(5)"
   ]
  },
  {
   "cell_type": "code",
   "execution_count": 9,
   "id": "9e4804af",
   "metadata": {
    "execution": {
     "iopub.execute_input": "2022-03-23T22:37:36.548797Z",
     "iopub.status.busy": "2022-03-23T22:37:36.543328Z",
     "iopub.status.idle": "2022-03-23T22:37:36.551341Z",
     "shell.execute_reply": "2022-03-23T22:37:36.551931Z",
     "shell.execute_reply.started": "2022-03-23T22:28:49.192724Z"
    },
    "id": "Rm_dgaoebbf2",
    "outputId": "610129c4-4a9a-41de-8c13-f21083410826",
    "papermill": {
     "duration": 0.087468,
     "end_time": "2022-03-23T22:37:36.552107",
     "exception": false,
     "start_time": "2022-03-23T22:37:36.464639",
     "status": "completed"
    },
    "tags": []
   },
   "outputs": [
    {
     "data": {
      "text/html": [
       "<div>\n",
       "<style scoped>\n",
       "    .dataframe tbody tr th:only-of-type {\n",
       "        vertical-align: middle;\n",
       "    }\n",
       "\n",
       "    .dataframe tbody tr th {\n",
       "        vertical-align: top;\n",
       "    }\n",
       "\n",
       "    .dataframe thead th {\n",
       "        text-align: right;\n",
       "    }\n",
       "</style>\n",
       "<table border=\"1\" class=\"dataframe\">\n",
       "  <thead>\n",
       "    <tr style=\"text-align: right;\">\n",
       "      <th></th>\n",
       "      <th>id</th>\n",
       "      <th>room_id/id</th>\n",
       "      <th>noted_date</th>\n",
       "      <th>temp</th>\n",
       "      <th>out/in</th>\n",
       "    </tr>\n",
       "  </thead>\n",
       "  <tbody>\n",
       "    <tr>\n",
       "      <th>2</th>\n",
       "      <td>__export__.temp_log_196127_522915e3</td>\n",
       "      <td>Room Admin</td>\n",
       "      <td>08-12-2018 09:29</td>\n",
       "      <td>41</td>\n",
       "      <td>Out</td>\n",
       "    </tr>\n",
       "    <tr>\n",
       "      <th>3</th>\n",
       "      <td>__export__.temp_log_196128_be0919cf</td>\n",
       "      <td>Room Admin</td>\n",
       "      <td>08-12-2018 09:29</td>\n",
       "      <td>41</td>\n",
       "      <td>Out</td>\n",
       "    </tr>\n",
       "    <tr>\n",
       "      <th>10</th>\n",
       "      <td>__export__.temp_log_196108_4a983c7e</td>\n",
       "      <td>Room Admin</td>\n",
       "      <td>08-12-2018 09:25</td>\n",
       "      <td>42</td>\n",
       "      <td>Out</td>\n",
       "    </tr>\n",
       "    <tr>\n",
       "      <th>11</th>\n",
       "      <td>__export__.temp_log_196108_4a983c7e</td>\n",
       "      <td>Room Admin</td>\n",
       "      <td>08-12-2018 09:25</td>\n",
       "      <td>42</td>\n",
       "      <td>Out</td>\n",
       "    </tr>\n",
       "    <tr>\n",
       "      <th>16</th>\n",
       "      <td>__export__.temp_log_196094_38501388</td>\n",
       "      <td>Room Admin</td>\n",
       "      <td>08-12-2018 09:21</td>\n",
       "      <td>41</td>\n",
       "      <td>Out</td>\n",
       "    </tr>\n",
       "  </tbody>\n",
       "</table>\n",
       "</div>"
      ],
      "text/plain": [
       "                                     id  room_id/id        noted_date  temp  \\\n",
       "2   __export__.temp_log_196127_522915e3  Room Admin  08-12-2018 09:29    41   \n",
       "3   __export__.temp_log_196128_be0919cf  Room Admin  08-12-2018 09:29    41   \n",
       "10  __export__.temp_log_196108_4a983c7e  Room Admin  08-12-2018 09:25    42   \n",
       "11  __export__.temp_log_196108_4a983c7e  Room Admin  08-12-2018 09:25    42   \n",
       "16  __export__.temp_log_196094_38501388  Room Admin  08-12-2018 09:21    41   \n",
       "\n",
       "   out/in  \n",
       "2     Out  \n",
       "3     Out  \n",
       "10    Out  \n",
       "11    Out  \n",
       "16    Out  "
      ]
     },
     "execution_count": 9,
     "metadata": {},
     "output_type": "execute_result"
    }
   ],
   "source": [
    "df_out.head()"
   ]
  },
  {
   "cell_type": "code",
   "execution_count": 10,
   "id": "efaff1b5",
   "metadata": {
    "execution": {
     "iopub.execute_input": "2022-03-23T22:37:36.714559Z",
     "iopub.status.busy": "2022-03-23T22:37:36.702375Z",
     "iopub.status.idle": "2022-03-23T22:37:36.719223Z",
     "shell.execute_reply": "2022-03-23T22:37:36.718649Z",
     "shell.execute_reply.started": "2022-03-23T22:28:49.211929Z"
    },
    "id": "0IFQqhkEbbf3",
    "outputId": "269223dd-8e84-4f0f-b2d6-cb5086dadea0",
    "papermill": {
     "duration": 0.094347,
     "end_time": "2022-03-23T22:37:36.719372",
     "exception": false,
     "start_time": "2022-03-23T22:37:36.625025",
     "status": "completed"
    },
    "tags": []
   },
   "outputs": [
    {
     "data": {
      "text/html": [
       "<div>\n",
       "<style scoped>\n",
       "    .dataframe tbody tr th:only-of-type {\n",
       "        vertical-align: middle;\n",
       "    }\n",
       "\n",
       "    .dataframe tbody tr th {\n",
       "        vertical-align: top;\n",
       "    }\n",
       "\n",
       "    .dataframe thead th {\n",
       "        text-align: right;\n",
       "    }\n",
       "</style>\n",
       "<table border=\"1\" class=\"dataframe\">\n",
       "  <thead>\n",
       "    <tr style=\"text-align: right;\">\n",
       "      <th></th>\n",
       "      <th>id</th>\n",
       "      <th>room_id/id</th>\n",
       "      <th>noted_date</th>\n",
       "      <th>temp</th>\n",
       "      <th>out/in</th>\n",
       "    </tr>\n",
       "  </thead>\n",
       "  <tbody>\n",
       "    <tr>\n",
       "      <th>0</th>\n",
       "      <td>__export__.temp_log_196134_bd201015</td>\n",
       "      <td>Room Admin</td>\n",
       "      <td>08-12-2018 09:30</td>\n",
       "      <td>29</td>\n",
       "      <td>In</td>\n",
       "    </tr>\n",
       "    <tr>\n",
       "      <th>1</th>\n",
       "      <td>__export__.temp_log_196131_7bca51bc</td>\n",
       "      <td>Room Admin</td>\n",
       "      <td>08-12-2018 09:30</td>\n",
       "      <td>29</td>\n",
       "      <td>In</td>\n",
       "    </tr>\n",
       "    <tr>\n",
       "      <th>2</th>\n",
       "      <td>__export__.temp_log_196126_d30b72fb</td>\n",
       "      <td>Room Admin</td>\n",
       "      <td>08-12-2018 09:29</td>\n",
       "      <td>31</td>\n",
       "      <td>In</td>\n",
       "    </tr>\n",
       "    <tr>\n",
       "      <th>3</th>\n",
       "      <td>__export__.temp_log_196125_b0fa0b41</td>\n",
       "      <td>Room Admin</td>\n",
       "      <td>08-12-2018 09:29</td>\n",
       "      <td>31</td>\n",
       "      <td>In</td>\n",
       "    </tr>\n",
       "    <tr>\n",
       "      <th>4</th>\n",
       "      <td>__export__.temp_log_196121_01544d45</td>\n",
       "      <td>Room Admin</td>\n",
       "      <td>08-12-2018 09:28</td>\n",
       "      <td>29</td>\n",
       "      <td>In</td>\n",
       "    </tr>\n",
       "    <tr>\n",
       "      <th>...</th>\n",
       "      <td>...</td>\n",
       "      <td>...</td>\n",
       "      <td>...</td>\n",
       "      <td>...</td>\n",
       "      <td>...</td>\n",
       "    </tr>\n",
       "    <tr>\n",
       "      <th>20340</th>\n",
       "      <td>__export__.temp_log_91076_7fbd08ca</td>\n",
       "      <td>Room Admin</td>\n",
       "      <td>28-07-2018 07:07</td>\n",
       "      <td>31</td>\n",
       "      <td>In</td>\n",
       "    </tr>\n",
       "    <tr>\n",
       "      <th>20341</th>\n",
       "      <td>__export__.temp_log_147733_62c03f31</td>\n",
       "      <td>Room Admin</td>\n",
       "      <td>28-07-2018 07:07</td>\n",
       "      <td>31</td>\n",
       "      <td>In</td>\n",
       "    </tr>\n",
       "    <tr>\n",
       "      <th>20342</th>\n",
       "      <td>__export__.temp_log_100386_84093a68</td>\n",
       "      <td>Room Admin</td>\n",
       "      <td>28-07-2018 07:06</td>\n",
       "      <td>31</td>\n",
       "      <td>In</td>\n",
       "    </tr>\n",
       "    <tr>\n",
       "      <th>20343</th>\n",
       "      <td>__export__.temp_log_123297_4d8e690b</td>\n",
       "      <td>Room Admin</td>\n",
       "      <td>28-07-2018 07:06</td>\n",
       "      <td>31</td>\n",
       "      <td>In</td>\n",
       "    </tr>\n",
       "    <tr>\n",
       "      <th>20344</th>\n",
       "      <td>__export__.temp_log_133741_32958703</td>\n",
       "      <td>Room Admin</td>\n",
       "      <td>28-07-2018 07:06</td>\n",
       "      <td>31</td>\n",
       "      <td>In</td>\n",
       "    </tr>\n",
       "  </tbody>\n",
       "</table>\n",
       "<p>20345 rows × 5 columns</p>\n",
       "</div>"
      ],
      "text/plain": [
       "                                        id  room_id/id        noted_date  \\\n",
       "0      __export__.temp_log_196134_bd201015  Room Admin  08-12-2018 09:30   \n",
       "1      __export__.temp_log_196131_7bca51bc  Room Admin  08-12-2018 09:30   \n",
       "2      __export__.temp_log_196126_d30b72fb  Room Admin  08-12-2018 09:29   \n",
       "3      __export__.temp_log_196125_b0fa0b41  Room Admin  08-12-2018 09:29   \n",
       "4      __export__.temp_log_196121_01544d45  Room Admin  08-12-2018 09:28   \n",
       "...                                    ...         ...               ...   \n",
       "20340   __export__.temp_log_91076_7fbd08ca  Room Admin  28-07-2018 07:07   \n",
       "20341  __export__.temp_log_147733_62c03f31  Room Admin  28-07-2018 07:07   \n",
       "20342  __export__.temp_log_100386_84093a68  Room Admin  28-07-2018 07:06   \n",
       "20343  __export__.temp_log_123297_4d8e690b  Room Admin  28-07-2018 07:06   \n",
       "20344  __export__.temp_log_133741_32958703  Room Admin  28-07-2018 07:06   \n",
       "\n",
       "       temp out/in  \n",
       "0        29     In  \n",
       "1        29     In  \n",
       "2        31     In  \n",
       "3        31     In  \n",
       "4        29     In  \n",
       "...     ...    ...  \n",
       "20340    31     In  \n",
       "20341    31     In  \n",
       "20342    31     In  \n",
       "20343    31     In  \n",
       "20344    31     In  \n",
       "\n",
       "[20345 rows x 5 columns]"
      ]
     },
     "execution_count": 10,
     "metadata": {},
     "output_type": "execute_result"
    }
   ],
   "source": [
    "#realizando o indice reset\n",
    "df_in.reset_index(drop=True)"
   ]
  },
  {
   "cell_type": "code",
   "execution_count": 11,
   "id": "95075406",
   "metadata": {
    "execution": {
     "iopub.execute_input": "2022-03-23T22:37:36.887736Z",
     "iopub.status.busy": "2022-03-23T22:37:36.871869Z",
     "iopub.status.idle": "2022-03-23T22:37:36.892263Z",
     "shell.execute_reply": "2022-03-23T22:37:36.891604Z",
     "shell.execute_reply.started": "2022-03-23T22:28:49.232179Z"
    },
    "id": "S3tyzZSObbf3",
    "outputId": "ec95e239-5648-46da-a01e-015a9a47dc6e",
    "papermill": {
     "duration": 0.099435,
     "end_time": "2022-03-23T22:37:36.892406",
     "exception": false,
     "start_time": "2022-03-23T22:37:36.792971",
     "status": "completed"
    },
    "tags": []
   },
   "outputs": [
    {
     "data": {
      "text/html": [
       "<div>\n",
       "<style scoped>\n",
       "    .dataframe tbody tr th:only-of-type {\n",
       "        vertical-align: middle;\n",
       "    }\n",
       "\n",
       "    .dataframe tbody tr th {\n",
       "        vertical-align: top;\n",
       "    }\n",
       "\n",
       "    .dataframe thead th {\n",
       "        text-align: right;\n",
       "    }\n",
       "</style>\n",
       "<table border=\"1\" class=\"dataframe\">\n",
       "  <thead>\n",
       "    <tr style=\"text-align: right;\">\n",
       "      <th></th>\n",
       "      <th>id</th>\n",
       "      <th>room_id/id</th>\n",
       "      <th>noted_date</th>\n",
       "      <th>temp</th>\n",
       "      <th>out/in</th>\n",
       "    </tr>\n",
       "  </thead>\n",
       "  <tbody>\n",
       "    <tr>\n",
       "      <th>0</th>\n",
       "      <td>__export__.temp_log_196127_522915e3</td>\n",
       "      <td>Room Admin</td>\n",
       "      <td>08-12-2018 09:29</td>\n",
       "      <td>41</td>\n",
       "      <td>Out</td>\n",
       "    </tr>\n",
       "    <tr>\n",
       "      <th>1</th>\n",
       "      <td>__export__.temp_log_196128_be0919cf</td>\n",
       "      <td>Room Admin</td>\n",
       "      <td>08-12-2018 09:29</td>\n",
       "      <td>41</td>\n",
       "      <td>Out</td>\n",
       "    </tr>\n",
       "    <tr>\n",
       "      <th>2</th>\n",
       "      <td>__export__.temp_log_196108_4a983c7e</td>\n",
       "      <td>Room Admin</td>\n",
       "      <td>08-12-2018 09:25</td>\n",
       "      <td>42</td>\n",
       "      <td>Out</td>\n",
       "    </tr>\n",
       "    <tr>\n",
       "      <th>3</th>\n",
       "      <td>__export__.temp_log_196108_4a983c7e</td>\n",
       "      <td>Room Admin</td>\n",
       "      <td>08-12-2018 09:25</td>\n",
       "      <td>42</td>\n",
       "      <td>Out</td>\n",
       "    </tr>\n",
       "    <tr>\n",
       "      <th>4</th>\n",
       "      <td>__export__.temp_log_196094_38501388</td>\n",
       "      <td>Room Admin</td>\n",
       "      <td>08-12-2018 09:21</td>\n",
       "      <td>41</td>\n",
       "      <td>Out</td>\n",
       "    </tr>\n",
       "    <tr>\n",
       "      <th>...</th>\n",
       "      <td>...</td>\n",
       "      <td>...</td>\n",
       "      <td>...</td>\n",
       "      <td>...</td>\n",
       "      <td>...</td>\n",
       "    </tr>\n",
       "    <tr>\n",
       "      <th>77256</th>\n",
       "      <td>__export__.temp_log_99990_0866b052</td>\n",
       "      <td>Room Admin</td>\n",
       "      <td>28-07-2018 07:07</td>\n",
       "      <td>32</td>\n",
       "      <td>Out</td>\n",
       "    </tr>\n",
       "    <tr>\n",
       "      <th>77257</th>\n",
       "      <td>__export__.temp_log_106366_5b89332c</td>\n",
       "      <td>Room Admin</td>\n",
       "      <td>28-07-2018 07:07</td>\n",
       "      <td>32</td>\n",
       "      <td>Out</td>\n",
       "    </tr>\n",
       "    <tr>\n",
       "      <th>77258</th>\n",
       "      <td>__export__.temp_log_128809_5b2685b6</td>\n",
       "      <td>Room Admin</td>\n",
       "      <td>28-07-2018 07:07</td>\n",
       "      <td>32</td>\n",
       "      <td>Out</td>\n",
       "    </tr>\n",
       "    <tr>\n",
       "      <th>77259</th>\n",
       "      <td>__export__.temp_log_111718_05b8d88d</td>\n",
       "      <td>Room Admin</td>\n",
       "      <td>28-07-2018 07:07</td>\n",
       "      <td>32</td>\n",
       "      <td>Out</td>\n",
       "    </tr>\n",
       "    <tr>\n",
       "      <th>77260</th>\n",
       "      <td>__export__.temp_log_124155_da310d7b</td>\n",
       "      <td>Room Admin</td>\n",
       "      <td>28-07-2018 07:07</td>\n",
       "      <td>32</td>\n",
       "      <td>Out</td>\n",
       "    </tr>\n",
       "  </tbody>\n",
       "</table>\n",
       "<p>77261 rows × 5 columns</p>\n",
       "</div>"
      ],
      "text/plain": [
       "                                        id  room_id/id        noted_date  \\\n",
       "0      __export__.temp_log_196127_522915e3  Room Admin  08-12-2018 09:29   \n",
       "1      __export__.temp_log_196128_be0919cf  Room Admin  08-12-2018 09:29   \n",
       "2      __export__.temp_log_196108_4a983c7e  Room Admin  08-12-2018 09:25   \n",
       "3      __export__.temp_log_196108_4a983c7e  Room Admin  08-12-2018 09:25   \n",
       "4      __export__.temp_log_196094_38501388  Room Admin  08-12-2018 09:21   \n",
       "...                                    ...         ...               ...   \n",
       "77256   __export__.temp_log_99990_0866b052  Room Admin  28-07-2018 07:07   \n",
       "77257  __export__.temp_log_106366_5b89332c  Room Admin  28-07-2018 07:07   \n",
       "77258  __export__.temp_log_128809_5b2685b6  Room Admin  28-07-2018 07:07   \n",
       "77259  __export__.temp_log_111718_05b8d88d  Room Admin  28-07-2018 07:07   \n",
       "77260  __export__.temp_log_124155_da310d7b  Room Admin  28-07-2018 07:07   \n",
       "\n",
       "       temp out/in  \n",
       "0        41    Out  \n",
       "1        41    Out  \n",
       "2        42    Out  \n",
       "3        42    Out  \n",
       "4        41    Out  \n",
       "...     ...    ...  \n",
       "77256    32    Out  \n",
       "77257    32    Out  \n",
       "77258    32    Out  \n",
       "77259    32    Out  \n",
       "77260    32    Out  \n",
       "\n",
       "[77261 rows x 5 columns]"
      ]
     },
     "execution_count": 11,
     "metadata": {},
     "output_type": "execute_result"
    }
   ],
   "source": [
    "df_out.reset_index(drop=True)"
   ]
  },
  {
   "cell_type": "code",
   "execution_count": 12,
   "id": "35fc8b5f",
   "metadata": {
    "execution": {
     "iopub.execute_input": "2022-03-23T22:37:37.048387Z",
     "iopub.status.busy": "2022-03-23T22:37:37.047752Z",
     "iopub.status.idle": "2022-03-23T22:37:38.162930Z",
     "shell.execute_reply": "2022-03-23T22:37:38.162308Z",
     "shell.execute_reply.started": "2022-03-23T22:28:49.252337Z"
    },
    "id": "jvUz08Nnbbf3",
    "outputId": "bd29ef45-7a71-4438-a1ec-54e022e60b45",
    "papermill": {
     "duration": 1.196346,
     "end_time": "2022-03-23T22:37:38.163065",
     "exception": false,
     "start_time": "2022-03-23T22:37:36.966719",
     "status": "completed"
    },
    "tags": []
   },
   "outputs": [
    {
     "data": {
      "text/plain": [
       "<Figure size 720x720 with 0 Axes>"
      ]
     },
     "metadata": {},
     "output_type": "display_data"
    },
    {
     "data": {
      "image/png": "[encoded data removed]",
      "text/plain": [
       "<Figure size 432x288 with 1 Axes>"
      ]
     },
     "metadata": {
      "needs_background": "light"
     },
     "output_type": "display_data"
    }
   ],
   "source": [
    "#plotando os valores\n",
    "plt.figure(figsize=(10,10))  #definir o tamanho da figura\n",
    "fig=plt.figure()\n",
    "ax=fig.add_axes([0,0,1,1])\n",
    "ax.scatter(df_in.index, df_in.temp, color='r')\n",
    "ax.scatter(df_out.index, df_out.temp, color='b')\n",
    "ax.set_xlabel('Indice')\n",
    "ax.set_ylabel('Temperatura (ºC)')\n",
    "ax.legend([\"Temp_IN\", \"Temp_Out\"])\n",
    "ax.set_title('scatter plot')\n",
    "plt.show()"
   ]
  },
  {
   "cell_type": "code",
   "execution_count": 13,
   "id": "df99315d",
   "metadata": {
    "execution": {
     "iopub.execute_input": "2022-03-23T22:37:38.335549Z",
     "iopub.status.busy": "2022-03-23T22:37:38.327346Z",
     "iopub.status.idle": "2022-03-23T22:37:38.609961Z",
     "shell.execute_reply": "2022-03-23T22:37:38.610436Z",
     "shell.execute_reply.started": "2022-03-23T22:28:50.229702Z"
    },
    "id": "aUsouOY0bbf4",
    "outputId": "f205fe8f-5fcc-4aaf-9897-11113fa127e7",
    "papermill": {
     "duration": 0.37131,
     "end_time": "2022-03-23T22:37:38.610610",
     "exception": false,
     "start_time": "2022-03-23T22:37:38.239300",
     "status": "completed"
    },
    "tags": []
   },
   "outputs": [
    {
     "data": {
      "text/plain": [
       "<Figure size 720x720 with 0 Axes>"
      ]
     },
     "metadata": {},
     "output_type": "display_data"
    },
    {
     "data": {
      "image/png": "[encoded data removed]",
      "text/plain": [
       "<Figure size 432x288 with 1 Axes>"
      ]
     },
     "metadata": {
      "needs_background": "light"
     },
     "output_type": "display_data"
    }
   ],
   "source": [
    "#plotando de outra forma\n",
    "plt.figure(figsize=(10,10))  #definir o tamanho da figura\n",
    "fig=plt.figure()\n",
    "ax=fig.add_axes([0,0,1,1])\n",
    "ax.plot(df_in.index, df_in.temp, color='r')\n",
    "ax.plot(df_out.index, df_out.temp, color='b')\n",
    "ax.set_xlabel('Indice')\n",
    "ax.set_ylabel('Temperatura (ºC)')\n",
    "ax.set_title('Temperaturas In e Out')\n",
    "ax.legend([\"Temp_IN\", \"Temp_Out\"])\n",
    "plt.show()\n"
   ]
  },
  {
   "cell_type": "code",
   "execution_count": 14,
   "id": "a2c138ce",
   "metadata": {
    "execution": {
     "iopub.execute_input": "2022-03-23T22:37:38.771387Z",
     "iopub.status.busy": "2022-03-23T22:37:38.769943Z",
     "iopub.status.idle": "2022-03-23T22:37:39.004063Z",
     "shell.execute_reply": "2022-03-23T22:37:39.003479Z",
     "shell.execute_reply.started": "2022-03-23T22:28:50.548328Z"
    },
    "id": "u8MIZ9Pzbbf4",
    "outputId": "18cff6d2-be16-486d-d43e-f2c43f61deeb",
    "papermill": {
     "duration": 0.316067,
     "end_time": "2022-03-23T22:37:39.004232",
     "exception": false,
     "start_time": "2022-03-23T22:37:38.688165",
     "status": "completed"
    },
    "tags": []
   },
   "outputs": [
    {
     "data": {
      "text/plain": [
       "<AxesSubplot:>"
      ]
     },
     "execution_count": 14,
     "metadata": {},
     "output_type": "execute_result"
    },
    {
     "data": {
      "image/png": "[encoded data removed]",
      "text/plain": [
       "<Figure size 432x288 with 1 Axes>"
      ]
     },
     "metadata": {
      "needs_background": "light"
     },
     "output_type": "display_data"
    }
   ],
   "source": [
    "#verificando se existem evidências de outliers nos valores dentro da residência\n",
    "df_in.boxplot(\"temp\")"
   ]
  },
  {
   "cell_type": "code",
   "execution_count": 15,
   "id": "44b181b4",
   "metadata": {
    "execution": {
     "iopub.execute_input": "2022-03-23T22:37:39.165634Z",
     "iopub.status.busy": "2022-03-23T22:37:39.164972Z",
     "iopub.status.idle": "2022-03-23T22:37:39.430300Z",
     "shell.execute_reply": "2022-03-23T22:37:39.430831Z",
     "shell.execute_reply.started": "2022-03-23T22:28:50.755571Z"
    },
    "id": "e57N6DsBbbf4",
    "outputId": "d5f3392c-36f3-490c-8fd6-37afbb6a99aa",
    "papermill": {
     "duration": 0.347913,
     "end_time": "2022-03-23T22:37:39.431001",
     "exception": false,
     "start_time": "2022-03-23T22:37:39.083088",
     "status": "completed"
    },
    "tags": []
   },
   "outputs": [
    {
     "data": {
      "text/plain": [
       "array([[<AxesSubplot:title={'center':'temp'}>]], dtype=object)"
      ]
     },
     "execution_count": 15,
     "metadata": {},
     "output_type": "execute_result"
    },
    {
     "data": {
      "text/plain": [
       "<Figure size 1080x1080 with 0 Axes>"
      ]
     },
     "metadata": {},
     "output_type": "display_data"
    },
    {
     "data": {
      "image/png": "[encoded data removed]",
      "text/plain": [
       "<Figure size 432x288 with 1 Axes>"
      ]
     },
     "metadata": {
      "needs_background": "light"
     },
     "output_type": "display_data"
    }
   ],
   "source": [
    "plt.figure(figsize=(15,15))  #definir o tamanho da figura\n",
    "df_in.hist()"
   ]
  },
  {
   "cell_type": "code",
   "execution_count": 16,
   "id": "55e2dc84",
   "metadata": {
    "execution": {
     "iopub.execute_input": "2022-03-23T22:37:39.596286Z",
     "iopub.status.busy": "2022-03-23T22:37:39.595655Z",
     "iopub.status.idle": "2022-03-23T22:37:39.866998Z",
     "shell.execute_reply": "2022-03-23T22:37:39.867533Z",
     "shell.execute_reply.started": "2022-03-23T22:28:51.010533Z"
    },
    "id": "WcmdJ7CIbbf5",
    "outputId": "4f19e9bc-58da-49a6-f8a6-079181944bff",
    "papermill": {
     "duration": 0.355846,
     "end_time": "2022-03-23T22:37:39.867708",
     "exception": false,
     "start_time": "2022-03-23T22:37:39.511862",
     "status": "completed"
    },
    "tags": []
   },
   "outputs": [
    {
     "data": {
      "text/plain": [
       "<AxesSubplot:>"
      ]
     },
     "execution_count": 16,
     "metadata": {},
     "output_type": "execute_result"
    },
    {
     "data": {
      "image/png": "[encoded data removed]",
      "text/plain": [
       "<Figure size 432x288 with 1 Axes>"
      ]
     },
     "metadata": {
      "needs_background": "light"
     },
     "output_type": "display_data"
    }
   ],
   "source": [
    "#verificando se existem evidências de outliers nos valores dentro da residência\n",
    "df_out.boxplot(\"temp\")"
   ]
  },
  {
   "cell_type": "code",
   "execution_count": 17,
   "id": "66e18bf9",
   "metadata": {
    "execution": {
     "iopub.execute_input": "2022-03-23T22:37:40.038257Z",
     "iopub.status.busy": "2022-03-23T22:37:40.037523Z",
     "iopub.status.idle": "2022-03-23T22:37:40.057957Z",
     "shell.execute_reply": "2022-03-23T22:37:40.058506Z",
     "shell.execute_reply.started": "2022-03-23T22:28:51.243659Z"
    },
    "id": "3ID55Yg9bbf5",
    "outputId": "1821126c-9677-4c5c-d0f0-6943dae7061b",
    "papermill": {
     "duration": 0.108855,
     "end_time": "2022-03-23T22:37:40.058677",
     "exception": false,
     "start_time": "2022-03-23T22:37:39.949822",
     "status": "completed"
    },
    "tags": []
   },
   "outputs": [
    {
     "name": "stdout",
     "output_type": "stream",
     "text": [
      "<class 'pandas.core.frame.DataFrame'>\n",
      "Int64Index: 20345 entries, 0 to 97605\n",
      "Data columns (total 5 columns):\n",
      " #   Column      Non-Null Count  Dtype \n",
      "---  ------      --------------  ----- \n",
      " 0   id          20345 non-null  object\n",
      " 1   room_id/id  20345 non-null  object\n",
      " 2   noted_date  20345 non-null  object\n",
      " 3   temp        20345 non-null  int64 \n",
      " 4   out/in      20345 non-null  object\n",
      "dtypes: int64(1), object(4)\n",
      "memory usage: 953.7+ KB\n"
     ]
    }
   ],
   "source": [
    "df_in.info()"
   ]
  },
  {
   "cell_type": "code",
   "execution_count": 18,
   "id": "8057c15d",
   "metadata": {
    "execution": {
     "iopub.execute_input": "2022-03-23T22:37:40.227830Z",
     "iopub.status.busy": "2022-03-23T22:37:40.226880Z",
     "iopub.status.idle": "2022-03-23T22:37:41.132127Z",
     "shell.execute_reply": "2022-03-23T22:37:41.132857Z",
     "shell.execute_reply.started": "2022-03-23T22:28:51.264674Z"
    },
    "id": "-ltdfuzLbbf5",
    "outputId": "af3c9edd-4605-477a-bc36-bb5892af9d9c",
    "papermill": {
     "duration": 0.991631,
     "end_time": "2022-03-23T22:37:41.133093",
     "exception": false,
     "start_time": "2022-03-23T22:37:40.141462",
     "status": "completed"
    },
    "tags": []
   },
   "outputs": [
    {
     "name": "stdout",
     "output_type": "stream",
     "text": [
      "<class 'pandas.core.frame.DataFrame'>\n",
      "Int64Index: 20345 entries, 0 to 97605\n",
      "Data columns (total 5 columns):\n",
      " #   Column      Non-Null Count  Dtype         \n",
      "---  ------      --------------  -----         \n",
      " 0   id          20345 non-null  object        \n",
      " 1   room_id/id  20345 non-null  object        \n",
      " 2   noted_date  20345 non-null  datetime64[ns]\n",
      " 3   temp        20345 non-null  int64         \n",
      " 4   out/in      20345 non-null  object        \n",
      "dtypes: datetime64[ns](1), int64(1), object(3)\n",
      "memory usage: 953.7+ KB\n"
     ]
    },
    {
     "name": "stderr",
     "output_type": "stream",
     "text": [
      "/opt/conda/lib/python3.7/site-packages/ipykernel_launcher.py:2: SettingWithCopyWarning: \n",
      "A value is trying to be set on a copy of a slice from a DataFrame.\n",
      "Try using .loc[row_indexer,col_indexer] = value instead\n",
      "\n",
      "See the caveats in the documentation: https://pandas.pydata.org/pandas-docs/stable/user_guide/indexing.html#returning-a-view-versus-a-copy\n",
      "  \n"
     ]
    }
   ],
   "source": [
    "#transformando os dados\n",
    "df_in['noted_date']= pd.to_datetime(df_in['noted_date']) \n",
    "df_in.info()"
   ]
  },
  {
   "cell_type": "code",
   "execution_count": 19,
   "id": "b6151873",
   "metadata": {
    "execution": {
     "iopub.execute_input": "2022-03-23T22:37:41.303817Z",
     "iopub.status.busy": "2022-03-23T22:37:41.303107Z",
     "iopub.status.idle": "2022-03-23T22:37:41.309833Z",
     "shell.execute_reply": "2022-03-23T22:37:41.310418Z",
     "shell.execute_reply.started": "2022-03-23T22:28:52.024604Z"
    },
    "id": "4-k6WMUubbf6",
    "papermill": {
     "duration": 0.093212,
     "end_time": "2022-03-23T22:37:41.310587",
     "exception": false,
     "start_time": "2022-03-23T22:37:41.217375",
     "status": "completed"
    },
    "tags": []
   },
   "outputs": [],
   "source": [
    "#ordenando o dataset\n",
    "df_in=df_in.sort_values(by=['noted_date'])"
   ]
  },
  {
   "cell_type": "code",
   "execution_count": 20,
   "id": "5b77eccc",
   "metadata": {
    "execution": {
     "iopub.execute_input": "2022-03-23T22:37:41.489363Z",
     "iopub.status.busy": "2022-03-23T22:37:41.488588Z",
     "iopub.status.idle": "2022-03-23T22:37:41.491392Z",
     "shell.execute_reply": "2022-03-23T22:37:41.491889Z",
     "shell.execute_reply.started": "2022-03-23T22:28:52.034676Z"
    },
    "id": "dFB8jIPPbbf6",
    "outputId": "21474c7e-8074-4982-c804-392dcdc29f83",
    "papermill": {
     "duration": 0.097882,
     "end_time": "2022-03-23T22:37:41.492061",
     "exception": false,
     "start_time": "2022-03-23T22:37:41.394179",
     "status": "completed"
    },
    "tags": []
   },
   "outputs": [
    {
     "data": {
      "text/html": [
       "<div>\n",
       "<style scoped>\n",
       "    .dataframe tbody tr th:only-of-type {\n",
       "        vertical-align: middle;\n",
       "    }\n",
       "\n",
       "    .dataframe tbody tr th {\n",
       "        vertical-align: top;\n",
       "    }\n",
       "\n",
       "    .dataframe thead th {\n",
       "        text-align: right;\n",
       "    }\n",
       "</style>\n",
       "<table border=\"1\" class=\"dataframe\">\n",
       "  <thead>\n",
       "    <tr style=\"text-align: right;\">\n",
       "      <th></th>\n",
       "      <th>id</th>\n",
       "      <th>room_id/id</th>\n",
       "      <th>noted_date</th>\n",
       "      <th>temp</th>\n",
       "      <th>out/in</th>\n",
       "    </tr>\n",
       "  </thead>\n",
       "  <tbody>\n",
       "    <tr>\n",
       "      <th>16218</th>\n",
       "      <td>__export__.temp_log_126924_cb744837</td>\n",
       "      <td>Room Admin</td>\n",
       "      <td>2018-01-11 00:06:00</td>\n",
       "      <td>32</td>\n",
       "      <td>In</td>\n",
       "    </tr>\n",
       "    <tr>\n",
       "      <th>16186</th>\n",
       "      <td>__export__.temp_log_128828_1f2ca69c</td>\n",
       "      <td>Room Admin</td>\n",
       "      <td>2018-01-11 02:12:00</td>\n",
       "      <td>32</td>\n",
       "      <td>In</td>\n",
       "    </tr>\n",
       "    <tr>\n",
       "      <th>16176</th>\n",
       "      <td>__export__.temp_log_142141_12bd7384</td>\n",
       "      <td>Room Admin</td>\n",
       "      <td>2018-01-11 02:44:00</td>\n",
       "      <td>32</td>\n",
       "      <td>In</td>\n",
       "    </tr>\n",
       "    <tr>\n",
       "      <th>16174</th>\n",
       "      <td>__export__.temp_log_106858_cdf61926</td>\n",
       "      <td>Room Admin</td>\n",
       "      <td>2018-01-11 02:46:00</td>\n",
       "      <td>32</td>\n",
       "      <td>In</td>\n",
       "    </tr>\n",
       "    <tr>\n",
       "      <th>16167</th>\n",
       "      <td>__export__.temp_log_120068_a0fc57cc</td>\n",
       "      <td>Room Admin</td>\n",
       "      <td>2018-01-11 02:58:00</td>\n",
       "      <td>31</td>\n",
       "      <td>In</td>\n",
       "    </tr>\n",
       "  </tbody>\n",
       "</table>\n",
       "</div>"
      ],
      "text/plain": [
       "                                        id  room_id/id          noted_date  \\\n",
       "16218  __export__.temp_log_126924_cb744837  Room Admin 2018-01-11 00:06:00   \n",
       "16186  __export__.temp_log_128828_1f2ca69c  Room Admin 2018-01-11 02:12:00   \n",
       "16176  __export__.temp_log_142141_12bd7384  Room Admin 2018-01-11 02:44:00   \n",
       "16174  __export__.temp_log_106858_cdf61926  Room Admin 2018-01-11 02:46:00   \n",
       "16167  __export__.temp_log_120068_a0fc57cc  Room Admin 2018-01-11 02:58:00   \n",
       "\n",
       "       temp out/in  \n",
       "16218    32     In  \n",
       "16186    32     In  \n",
       "16176    32     In  \n",
       "16174    32     In  \n",
       "16167    31     In  "
      ]
     },
     "execution_count": 20,
     "metadata": {},
     "output_type": "execute_result"
    }
   ],
   "source": [
    "df_in.head()"
   ]
  },
  {
   "cell_type": "code",
   "execution_count": 21,
   "id": "417cc022",
   "metadata": {
    "execution": {
     "iopub.execute_input": "2022-03-23T22:37:41.663355Z",
     "iopub.status.busy": "2022-03-23T22:37:41.662664Z",
     "iopub.status.idle": "2022-03-23T22:37:41.678295Z",
     "shell.execute_reply": "2022-03-23T22:37:41.678834Z",
     "shell.execute_reply.started": "2022-03-23T22:28:52.053967Z"
    },
    "id": "SWo50deYbbf6",
    "outputId": "4204cfc0-f298-4a68-8111-78a47ca1f9b7",
    "papermill": {
     "duration": 0.102459,
     "end_time": "2022-03-23T22:37:41.679000",
     "exception": false,
     "start_time": "2022-03-23T22:37:41.576541",
     "status": "completed"
    },
    "tags": []
   },
   "outputs": [
    {
     "data": {
      "text/html": [
       "<div>\n",
       "<style scoped>\n",
       "    .dataframe tbody tr th:only-of-type {\n",
       "        vertical-align: middle;\n",
       "    }\n",
       "\n",
       "    .dataframe tbody tr th {\n",
       "        vertical-align: top;\n",
       "    }\n",
       "\n",
       "    .dataframe thead th {\n",
       "        text-align: right;\n",
       "    }\n",
       "</style>\n",
       "<table border=\"1\" class=\"dataframe\">\n",
       "  <thead>\n",
       "    <tr style=\"text-align: right;\">\n",
       "      <th></th>\n",
       "      <th>id</th>\n",
       "      <th>room_id/id</th>\n",
       "      <th>noted_date</th>\n",
       "      <th>temp</th>\n",
       "      <th>out/in</th>\n",
       "    </tr>\n",
       "  </thead>\n",
       "  <tbody>\n",
       "    <tr>\n",
       "      <th>0</th>\n",
       "      <td>__export__.temp_log_126924_cb744837</td>\n",
       "      <td>Room Admin</td>\n",
       "      <td>2018-01-11 00:06:00</td>\n",
       "      <td>32</td>\n",
       "      <td>In</td>\n",
       "    </tr>\n",
       "    <tr>\n",
       "      <th>1</th>\n",
       "      <td>__export__.temp_log_128828_1f2ca69c</td>\n",
       "      <td>Room Admin</td>\n",
       "      <td>2018-01-11 02:12:00</td>\n",
       "      <td>32</td>\n",
       "      <td>In</td>\n",
       "    </tr>\n",
       "    <tr>\n",
       "      <th>2</th>\n",
       "      <td>__export__.temp_log_142141_12bd7384</td>\n",
       "      <td>Room Admin</td>\n",
       "      <td>2018-01-11 02:44:00</td>\n",
       "      <td>32</td>\n",
       "      <td>In</td>\n",
       "    </tr>\n",
       "    <tr>\n",
       "      <th>3</th>\n",
       "      <td>__export__.temp_log_106858_cdf61926</td>\n",
       "      <td>Room Admin</td>\n",
       "      <td>2018-01-11 02:46:00</td>\n",
       "      <td>32</td>\n",
       "      <td>In</td>\n",
       "    </tr>\n",
       "    <tr>\n",
       "      <th>4</th>\n",
       "      <td>__export__.temp_log_120068_a0fc57cc</td>\n",
       "      <td>Room Admin</td>\n",
       "      <td>2018-01-11 02:58:00</td>\n",
       "      <td>31</td>\n",
       "      <td>In</td>\n",
       "    </tr>\n",
       "    <tr>\n",
       "      <th>...</th>\n",
       "      <td>...</td>\n",
       "      <td>...</td>\n",
       "      <td>...</td>\n",
       "      <td>...</td>\n",
       "      <td>...</td>\n",
       "    </tr>\n",
       "    <tr>\n",
       "      <th>20340</th>\n",
       "      <td>__export__.temp_log_41083_917dc7ae</td>\n",
       "      <td>Room Admin</td>\n",
       "      <td>2018-12-10 20:25:00</td>\n",
       "      <td>35</td>\n",
       "      <td>In</td>\n",
       "    </tr>\n",
       "    <tr>\n",
       "      <th>20341</th>\n",
       "      <td>__export__.temp_log_41090_c0ed0bd1</td>\n",
       "      <td>Room Admin</td>\n",
       "      <td>2018-12-10 20:35:00</td>\n",
       "      <td>34</td>\n",
       "      <td>In</td>\n",
       "    </tr>\n",
       "    <tr>\n",
       "      <th>20342</th>\n",
       "      <td>__export__.temp_log_41091_8546ae99</td>\n",
       "      <td>Room Admin</td>\n",
       "      <td>2018-12-10 20:37:00</td>\n",
       "      <td>35</td>\n",
       "      <td>In</td>\n",
       "    </tr>\n",
       "    <tr>\n",
       "      <th>20343</th>\n",
       "      <td>__export__.temp_log_41129_77d8da57</td>\n",
       "      <td>Room Admin</td>\n",
       "      <td>2018-12-10 21:31:00</td>\n",
       "      <td>34</td>\n",
       "      <td>In</td>\n",
       "    </tr>\n",
       "    <tr>\n",
       "      <th>20344</th>\n",
       "      <td>__export__.temp_log_41130_13e2eff7</td>\n",
       "      <td>Room Admin</td>\n",
       "      <td>2018-12-10 21:33:00</td>\n",
       "      <td>35</td>\n",
       "      <td>In</td>\n",
       "    </tr>\n",
       "  </tbody>\n",
       "</table>\n",
       "<p>20345 rows × 5 columns</p>\n",
       "</div>"
      ],
      "text/plain": [
       "                                        id  room_id/id          noted_date  \\\n",
       "0      __export__.temp_log_126924_cb744837  Room Admin 2018-01-11 00:06:00   \n",
       "1      __export__.temp_log_128828_1f2ca69c  Room Admin 2018-01-11 02:12:00   \n",
       "2      __export__.temp_log_142141_12bd7384  Room Admin 2018-01-11 02:44:00   \n",
       "3      __export__.temp_log_106858_cdf61926  Room Admin 2018-01-11 02:46:00   \n",
       "4      __export__.temp_log_120068_a0fc57cc  Room Admin 2018-01-11 02:58:00   \n",
       "...                                    ...         ...                 ...   \n",
       "20340   __export__.temp_log_41083_917dc7ae  Room Admin 2018-12-10 20:25:00   \n",
       "20341   __export__.temp_log_41090_c0ed0bd1  Room Admin 2018-12-10 20:35:00   \n",
       "20342   __export__.temp_log_41091_8546ae99  Room Admin 2018-12-10 20:37:00   \n",
       "20343   __export__.temp_log_41129_77d8da57  Room Admin 2018-12-10 21:31:00   \n",
       "20344   __export__.temp_log_41130_13e2eff7  Room Admin 2018-12-10 21:33:00   \n",
       "\n",
       "       temp out/in  \n",
       "0        32     In  \n",
       "1        32     In  \n",
       "2        32     In  \n",
       "3        32     In  \n",
       "4        31     In  \n",
       "...     ...    ...  \n",
       "20340    35     In  \n",
       "20341    34     In  \n",
       "20342    35     In  \n",
       "20343    34     In  \n",
       "20344    35     In  \n",
       "\n",
       "[20345 rows x 5 columns]"
      ]
     },
     "execution_count": 21,
     "metadata": {},
     "output_type": "execute_result"
    }
   ],
   "source": [
    "#aplicando o index reset\n",
    "df_in.reset_index(drop=True)"
   ]
  },
  {
   "cell_type": "code",
   "execution_count": 22,
   "id": "5a652c07",
   "metadata": {
    "execution": {
     "iopub.execute_input": "2022-03-23T22:37:41.850958Z",
     "iopub.status.busy": "2022-03-23T22:37:41.850355Z",
     "iopub.status.idle": "2022-03-23T22:37:44.128852Z",
     "shell.execute_reply": "2022-03-23T22:37:44.127874Z",
     "shell.execute_reply.started": "2022-03-23T22:28:52.074771Z"
    },
    "id": "tB3jKHD5bbf6",
    "outputId": "9b82dede-ab31-4998-b05f-37793ab2b5ca",
    "papermill": {
     "duration": 2.365182,
     "end_time": "2022-03-23T22:37:44.129059",
     "exception": false,
     "start_time": "2022-03-23T22:37:41.763877",
     "status": "completed"
    },
    "tags": []
   },
   "outputs": [
    {
     "name": "stderr",
     "output_type": "stream",
     "text": [
      "/opt/conda/lib/python3.7/site-packages/ipykernel_launcher.py:2: SettingWithCopyWarning: \n",
      "A value is trying to be set on a copy of a slice from a DataFrame.\n",
      "Try using .loc[row_indexer,col_indexer] = value instead\n",
      "\n",
      "See the caveats in the documentation: https://pandas.pydata.org/pandas-docs/stable/user_guide/indexing.html#returning-a-view-versus-a-copy\n",
      "  \n"
     ]
    },
    {
     "data": {
      "text/html": [
       "<div>\n",
       "<style scoped>\n",
       "    .dataframe tbody tr th:only-of-type {\n",
       "        vertical-align: middle;\n",
       "    }\n",
       "\n",
       "    .dataframe tbody tr th {\n",
       "        vertical-align: top;\n",
       "    }\n",
       "\n",
       "    .dataframe thead th {\n",
       "        text-align: right;\n",
       "    }\n",
       "</style>\n",
       "<table border=\"1\" class=\"dataframe\">\n",
       "  <thead>\n",
       "    <tr style=\"text-align: right;\">\n",
       "      <th></th>\n",
       "      <th>id</th>\n",
       "      <th>room_id/id</th>\n",
       "      <th>noted_date</th>\n",
       "      <th>temp</th>\n",
       "      <th>out/in</th>\n",
       "    </tr>\n",
       "  </thead>\n",
       "  <tbody>\n",
       "    <tr>\n",
       "      <th>0</th>\n",
       "      <td>__export__.temp_log_146101_e61c18d4</td>\n",
       "      <td>Room Admin</td>\n",
       "      <td>2018-01-11 00:07:00</td>\n",
       "      <td>40</td>\n",
       "      <td>Out</td>\n",
       "    </tr>\n",
       "    <tr>\n",
       "      <th>1</th>\n",
       "      <td>__export__.temp_log_111262_7b3ed086</td>\n",
       "      <td>Room Admin</td>\n",
       "      <td>2018-01-11 00:09:00</td>\n",
       "      <td>39</td>\n",
       "      <td>Out</td>\n",
       "    </tr>\n",
       "    <tr>\n",
       "      <th>2</th>\n",
       "      <td>__export__.temp_log_147650_344507e9</td>\n",
       "      <td>Room Admin</td>\n",
       "      <td>2018-01-11 00:13:00</td>\n",
       "      <td>40</td>\n",
       "      <td>Out</td>\n",
       "    </tr>\n",
       "    <tr>\n",
       "      <th>3</th>\n",
       "      <td>__export__.temp_log_139505_cd77d7f9</td>\n",
       "      <td>Room Admin</td>\n",
       "      <td>2018-01-11 00:23:00</td>\n",
       "      <td>40</td>\n",
       "      <td>Out</td>\n",
       "    </tr>\n",
       "    <tr>\n",
       "      <th>4</th>\n",
       "      <td>__export__.temp_log_127981_32c85db7</td>\n",
       "      <td>Room Admin</td>\n",
       "      <td>2018-01-11 00:25:00</td>\n",
       "      <td>40</td>\n",
       "      <td>Out</td>\n",
       "    </tr>\n",
       "    <tr>\n",
       "      <th>...</th>\n",
       "      <td>...</td>\n",
       "      <td>...</td>\n",
       "      <td>...</td>\n",
       "      <td>...</td>\n",
       "      <td>...</td>\n",
       "    </tr>\n",
       "    <tr>\n",
       "      <th>77256</th>\n",
       "      <td>__export__.temp_log_41241_36e995ef</td>\n",
       "      <td>Room Admin</td>\n",
       "      <td>2018-12-10 23:41:00</td>\n",
       "      <td>44</td>\n",
       "      <td>Out</td>\n",
       "    </tr>\n",
       "    <tr>\n",
       "      <th>77257</th>\n",
       "      <td>__export__.temp_log_41244_1cef6363</td>\n",
       "      <td>Room Admin</td>\n",
       "      <td>2018-12-10 23:43:00</td>\n",
       "      <td>44</td>\n",
       "      <td>Out</td>\n",
       "    </tr>\n",
       "    <tr>\n",
       "      <th>77258</th>\n",
       "      <td>__export__.temp_log_41249_7d6819cd</td>\n",
       "      <td>Room Admin</td>\n",
       "      <td>2018-12-10 23:49:00</td>\n",
       "      <td>44</td>\n",
       "      <td>Out</td>\n",
       "    </tr>\n",
       "    <tr>\n",
       "      <th>77259</th>\n",
       "      <td>__export__.temp_log_41250_eed95540</td>\n",
       "      <td>Room Admin</td>\n",
       "      <td>2018-12-10 23:51:00</td>\n",
       "      <td>45</td>\n",
       "      <td>Out</td>\n",
       "    </tr>\n",
       "    <tr>\n",
       "      <th>77260</th>\n",
       "      <td>__export__.temp_log_41254_5b6ff69c</td>\n",
       "      <td>Room Admin</td>\n",
       "      <td>2018-12-10 23:55:00</td>\n",
       "      <td>44</td>\n",
       "      <td>Out</td>\n",
       "    </tr>\n",
       "  </tbody>\n",
       "</table>\n",
       "<p>77261 rows × 5 columns</p>\n",
       "</div>"
      ],
      "text/plain": [
       "                                        id  room_id/id          noted_date  \\\n",
       "0      __export__.temp_log_146101_e61c18d4  Room Admin 2018-01-11 00:07:00   \n",
       "1      __export__.temp_log_111262_7b3ed086  Room Admin 2018-01-11 00:09:00   \n",
       "2      __export__.temp_log_147650_344507e9  Room Admin 2018-01-11 00:13:00   \n",
       "3      __export__.temp_log_139505_cd77d7f9  Room Admin 2018-01-11 00:23:00   \n",
       "4      __export__.temp_log_127981_32c85db7  Room Admin 2018-01-11 00:25:00   \n",
       "...                                    ...         ...                 ...   \n",
       "77256   __export__.temp_log_41241_36e995ef  Room Admin 2018-12-10 23:41:00   \n",
       "77257   __export__.temp_log_41244_1cef6363  Room Admin 2018-12-10 23:43:00   \n",
       "77258   __export__.temp_log_41249_7d6819cd  Room Admin 2018-12-10 23:49:00   \n",
       "77259   __export__.temp_log_41250_eed95540  Room Admin 2018-12-10 23:51:00   \n",
       "77260   __export__.temp_log_41254_5b6ff69c  Room Admin 2018-12-10 23:55:00   \n",
       "\n",
       "       temp out/in  \n",
       "0        40    Out  \n",
       "1        39    Out  \n",
       "2        40    Out  \n",
       "3        40    Out  \n",
       "4        40    Out  \n",
       "...     ...    ...  \n",
       "77256    44    Out  \n",
       "77257    44    Out  \n",
       "77258    44    Out  \n",
       "77259    45    Out  \n",
       "77260    44    Out  \n",
       "\n",
       "[77261 rows x 5 columns]"
      ]
     },
     "execution_count": 22,
     "metadata": {},
     "output_type": "execute_result"
    }
   ],
   "source": [
    "#aplicando o mesmo procedimento para o dataframe de out\n",
    "df_out['noted_date']= pd.to_datetime(df_out['noted_date']) \n",
    "df_out=df_out.sort_values(by=['noted_date'])\n",
    "df_out.reset_index(drop=True)"
   ]
  },
  {
   "cell_type": "code",
   "execution_count": 23,
   "id": "58264ab2",
   "metadata": {
    "execution": {
     "iopub.execute_input": "2022-03-23T22:37:44.313805Z",
     "iopub.status.busy": "2022-03-23T22:37:44.313080Z",
     "iopub.status.idle": "2022-03-23T22:37:44.347406Z",
     "shell.execute_reply": "2022-03-23T22:37:44.348000Z",
     "shell.execute_reply.started": "2022-03-23T22:28:53.990716Z"
    },
    "id": "P20PsL91bbf7",
    "outputId": "62610de9-7d29-4051-a98c-24809217f788",
    "papermill": {
     "duration": 0.133675,
     "end_time": "2022-03-23T22:37:44.348176",
     "exception": false,
     "start_time": "2022-03-23T22:37:44.214501",
     "status": "completed"
    },
    "tags": []
   },
   "outputs": [
    {
     "name": "stdout",
     "output_type": "stream",
     "text": [
      "Registros existentes no df_IN:  id            20345\n",
      "room_id/id    20345\n",
      "noted_date    20345\n",
      "temp          20345\n",
      "out/in        20345\n",
      "dtype: int64\n",
      "Registros existentes no df_OUt:  id            77261\n",
      "room_id/id    77261\n",
      "noted_date    77261\n",
      "temp          77261\n",
      "out/in        77261\n",
      "dtype: int64\n"
     ]
    }
   ],
   "source": [
    "print(\"Registros existentes no df_IN: \",df_in.count())\n",
    "print(\"Registros existentes no df_OUt: \",df_out.count())"
   ]
  },
  {
   "cell_type": "code",
   "execution_count": 24,
   "id": "a351f7e2",
   "metadata": {
    "execution": {
     "iopub.execute_input": "2022-03-23T22:37:44.522791Z",
     "iopub.status.busy": "2022-03-23T22:37:44.522179Z",
     "iopub.status.idle": "2022-03-23T22:37:44.553380Z",
     "shell.execute_reply": "2022-03-23T22:37:44.553951Z",
     "shell.execute_reply.started": "2022-03-23T22:28:54.020540Z"
    },
    "id": "rD6tfkPFbbf7",
    "outputId": "a054fded-c824-43c5-90b0-d9fbede0321f",
    "papermill": {
     "duration": 0.120566,
     "end_time": "2022-03-23T22:37:44.554128",
     "exception": false,
     "start_time": "2022-03-23T22:37:44.433562",
     "status": "completed"
    },
    "tags": []
   },
   "outputs": [
    {
     "data": {
      "text/html": [
       "<div>\n",
       "<style scoped>\n",
       "    .dataframe tbody tr th:only-of-type {\n",
       "        vertical-align: middle;\n",
       "    }\n",
       "\n",
       "    .dataframe tbody tr th {\n",
       "        vertical-align: top;\n",
       "    }\n",
       "\n",
       "    .dataframe thead th {\n",
       "        text-align: right;\n",
       "    }\n",
       "</style>\n",
       "<table border=\"1\" class=\"dataframe\">\n",
       "  <thead>\n",
       "    <tr style=\"text-align: right;\">\n",
       "      <th></th>\n",
       "      <th>temp_in</th>\n",
       "      <th>temp_out</th>\n",
       "    </tr>\n",
       "  </thead>\n",
       "  <tbody>\n",
       "    <tr>\n",
       "      <th>0</th>\n",
       "      <td>29.0</td>\n",
       "      <td>NaN</td>\n",
       "    </tr>\n",
       "    <tr>\n",
       "      <th>1</th>\n",
       "      <td>29.0</td>\n",
       "      <td>NaN</td>\n",
       "    </tr>\n",
       "    <tr>\n",
       "      <th>2</th>\n",
       "      <td>NaN</td>\n",
       "      <td>41.0</td>\n",
       "    </tr>\n",
       "    <tr>\n",
       "      <th>3</th>\n",
       "      <td>NaN</td>\n",
       "      <td>41.0</td>\n",
       "    </tr>\n",
       "    <tr>\n",
       "      <th>4</th>\n",
       "      <td>31.0</td>\n",
       "      <td>NaN</td>\n",
       "    </tr>\n",
       "  </tbody>\n",
       "</table>\n",
       "</div>"
      ],
      "text/plain": [
       "   temp_in  temp_out\n",
       "0     29.0       NaN\n",
       "1     29.0       NaN\n",
       "2      NaN      41.0\n",
       "3      NaN      41.0\n",
       "4     31.0       NaN"
      ]
     },
     "execution_count": 24,
     "metadata": {},
     "output_type": "execute_result"
    }
   ],
   "source": [
    "#comparando as duas temperaturas estatísticamente\n",
    "frame = { 'temp_in': df_in.temp, 'temp_out': df_out.temp } \n",
    "df_in_out=pd.DataFrame(frame)\n",
    "df_in_out.head()"
   ]
  },
  {
   "cell_type": "code",
   "execution_count": 25,
   "id": "642cdec0",
   "metadata": {
    "execution": {
     "iopub.execute_input": "2022-03-23T22:37:44.730006Z",
     "iopub.status.busy": "2022-03-23T22:37:44.729396Z",
     "iopub.status.idle": "2022-03-23T22:37:44.741060Z",
     "shell.execute_reply": "2022-03-23T22:37:44.741575Z",
     "shell.execute_reply.started": "2022-03-23T22:28:54.050600Z"
    },
    "id": "Pbg-LRPLbbf7",
    "outputId": "3028bd90-3f56-44e2-87a3-f7d990f3ee47",
    "papermill": {
     "duration": 0.100948,
     "end_time": "2022-03-23T22:37:44.741750",
     "exception": false,
     "start_time": "2022-03-23T22:37:44.640802",
     "status": "completed"
    },
    "tags": []
   },
   "outputs": [
    {
     "name": "stdout",
     "output_type": "stream",
     "text": [
      "<class 'pandas.core.frame.DataFrame'>\n",
      "Int64Index: 97606 entries, 0 to 97605\n",
      "Data columns (total 2 columns):\n",
      " #   Column    Non-Null Count  Dtype  \n",
      "---  ------    --------------  -----  \n",
      " 0   temp_in   20345 non-null  float64\n",
      " 1   temp_out  77261 non-null  float64\n",
      "dtypes: float64(2)\n",
      "memory usage: 2.2 MB\n"
     ]
    }
   ],
   "source": [
    "df_in_out.info()"
   ]
  },
  {
   "cell_type": "code",
   "execution_count": 26,
   "id": "101e2e36",
   "metadata": {
    "execution": {
     "iopub.execute_input": "2022-03-23T22:37:44.919088Z",
     "iopub.status.busy": "2022-03-23T22:37:44.918483Z",
     "iopub.status.idle": "2022-03-23T22:37:45.028179Z",
     "shell.execute_reply": "2022-03-23T22:37:45.027549Z",
     "shell.execute_reply.started": "2022-03-23T22:28:54.064340Z"
    },
    "id": "BE9mqUWmbbf8",
    "papermill": {
     "duration": 0.199805,
     "end_time": "2022-03-23T22:37:45.028354",
     "exception": false,
     "start_time": "2022-03-23T22:37:44.828549",
     "status": "completed"
    },
    "tags": []
   },
   "outputs": [],
   "source": [
    "#exemplificando o pivot\n",
    "table = pd.pivot_table(IOT_temp, values='temp', index=['noted_date'], columns= [\"out/in\"],fill_value=0)"
   ]
  },
  {
   "cell_type": "code",
   "execution_count": 27,
   "id": "19591d48",
   "metadata": {
    "execution": {
     "iopub.execute_input": "2022-03-23T22:37:45.216170Z",
     "iopub.status.busy": "2022-03-23T22:37:45.215448Z",
     "iopub.status.idle": "2022-03-23T22:37:45.218775Z",
     "shell.execute_reply": "2022-03-23T22:37:45.219240Z",
     "shell.execute_reply.started": "2022-03-23T22:28:54.151155Z"
    },
    "id": "K6DZPhgAbbf8",
    "outputId": "8951bf88-ccfa-45ca-878c-9d3e20784ffb",
    "papermill": {
     "duration": 0.104315,
     "end_time": "2022-03-23T22:37:45.219412",
     "exception": false,
     "start_time": "2022-03-23T22:37:45.115097",
     "status": "completed"
    },
    "tags": []
   },
   "outputs": [
    {
     "data": {
      "text/html": [
       "<div>\n",
       "<style scoped>\n",
       "    .dataframe tbody tr th:only-of-type {\n",
       "        vertical-align: middle;\n",
       "    }\n",
       "\n",
       "    .dataframe tbody tr th {\n",
       "        vertical-align: top;\n",
       "    }\n",
       "\n",
       "    .dataframe thead th {\n",
       "        text-align: right;\n",
       "    }\n",
       "</style>\n",
       "<table border=\"1\" class=\"dataframe\">\n",
       "  <thead>\n",
       "    <tr style=\"text-align: right;\">\n",
       "      <th>out/in</th>\n",
       "      <th>In</th>\n",
       "      <th>Out</th>\n",
       "    </tr>\n",
       "    <tr>\n",
       "      <th>noted_date</th>\n",
       "      <th></th>\n",
       "      <th></th>\n",
       "    </tr>\n",
       "  </thead>\n",
       "  <tbody>\n",
       "    <tr>\n",
       "      <th>01-11-2018 00:06</th>\n",
       "      <td>32.0</td>\n",
       "      <td>0.0</td>\n",
       "    </tr>\n",
       "    <tr>\n",
       "      <th>01-11-2018 00:07</th>\n",
       "      <td>0.0</td>\n",
       "      <td>40.0</td>\n",
       "    </tr>\n",
       "    <tr>\n",
       "      <th>01-11-2018 00:09</th>\n",
       "      <td>0.0</td>\n",
       "      <td>39.0</td>\n",
       "    </tr>\n",
       "    <tr>\n",
       "      <th>01-11-2018 00:13</th>\n",
       "      <td>0.0</td>\n",
       "      <td>40.0</td>\n",
       "    </tr>\n",
       "    <tr>\n",
       "      <th>01-11-2018 00:23</th>\n",
       "      <td>0.0</td>\n",
       "      <td>40.0</td>\n",
       "    </tr>\n",
       "    <tr>\n",
       "      <th>...</th>\n",
       "      <td>...</td>\n",
       "      <td>...</td>\n",
       "    </tr>\n",
       "    <tr>\n",
       "      <th>31-10-2018 23:52</th>\n",
       "      <td>0.0</td>\n",
       "      <td>40.0</td>\n",
       "    </tr>\n",
       "    <tr>\n",
       "      <th>31-10-2018 23:53</th>\n",
       "      <td>0.0</td>\n",
       "      <td>39.0</td>\n",
       "    </tr>\n",
       "    <tr>\n",
       "      <th>31-10-2018 23:54</th>\n",
       "      <td>32.0</td>\n",
       "      <td>0.0</td>\n",
       "    </tr>\n",
       "    <tr>\n",
       "      <th>31-10-2018 23:55</th>\n",
       "      <td>0.0</td>\n",
       "      <td>40.0</td>\n",
       "    </tr>\n",
       "    <tr>\n",
       "      <th>31-10-2018 23:57</th>\n",
       "      <td>0.0</td>\n",
       "      <td>39.0</td>\n",
       "    </tr>\n",
       "  </tbody>\n",
       "</table>\n",
       "<p>27920 rows × 2 columns</p>\n",
       "</div>"
      ],
      "text/plain": [
       "out/in              In   Out\n",
       "noted_date                  \n",
       "01-11-2018 00:06  32.0   0.0\n",
       "01-11-2018 00:07   0.0  40.0\n",
       "01-11-2018 00:09   0.0  39.0\n",
       "01-11-2018 00:13   0.0  40.0\n",
       "01-11-2018 00:23   0.0  40.0\n",
       "...                ...   ...\n",
       "31-10-2018 23:52   0.0  40.0\n",
       "31-10-2018 23:53   0.0  39.0\n",
       "31-10-2018 23:54  32.0   0.0\n",
       "31-10-2018 23:55   0.0  40.0\n",
       "31-10-2018 23:57   0.0  39.0\n",
       "\n",
       "[27920 rows x 2 columns]"
      ]
     },
     "execution_count": 27,
     "metadata": {},
     "output_type": "execute_result"
    }
   ],
   "source": [
    "table"
   ]
  },
  {
   "cell_type": "code",
   "execution_count": 28,
   "id": "ffb07de0",
   "metadata": {
    "execution": {
     "iopub.execute_input": "2022-03-23T22:37:45.417534Z",
     "iopub.status.busy": "2022-03-23T22:37:45.415610Z",
     "iopub.status.idle": "2022-03-23T22:37:45.735887Z",
     "shell.execute_reply": "2022-03-23T22:37:45.736367Z",
     "shell.execute_reply.started": "2022-03-23T22:28:54.165666Z"
    },
    "id": "ohb_WFdhbbf8",
    "outputId": "ac26f52e-e983-4b3a-f51f-9b93297ac0c1",
    "papermill": {
     "duration": 0.428525,
     "end_time": "2022-03-23T22:37:45.736539",
     "exception": false,
     "start_time": "2022-03-23T22:37:45.308014",
     "status": "completed"
    },
    "tags": []
   },
   "outputs": [
    {
     "data": {
      "text/plain": [
       "<AxesSubplot:>"
      ]
     },
     "execution_count": 28,
     "metadata": {},
     "output_type": "execute_result"
    },
    {
     "data": {
      "image/png": "[encoded data removed]",
      "text/plain": [
       "<Figure size 432x288 with 1 Axes>"
      ]
     },
     "metadata": {
      "needs_background": "light"
     },
     "output_type": "display_data"
    }
   ],
   "source": [
    "#comparando a igualdade dos valores In e Out\n",
    "df_in_out.boxplot()"
   ]
  },
  {
   "cell_type": "code",
   "execution_count": 29,
   "id": "ec44f5b8",
   "metadata": {
    "execution": {
     "iopub.execute_input": "2022-03-23T22:37:45.919510Z",
     "iopub.status.busy": "2022-03-23T22:37:45.918634Z",
     "iopub.status.idle": "2022-03-23T22:37:46.220597Z",
     "shell.execute_reply": "2022-03-23T22:37:46.219868Z",
     "shell.execute_reply.started": "2022-03-23T22:28:54.428317Z"
    },
    "id": "MryG47ydbbf8",
    "papermill": {
     "duration": 0.396032,
     "end_time": "2022-03-23T22:37:46.220746",
     "exception": false,
     "start_time": "2022-03-23T22:37:45.824714",
     "status": "completed"
    },
    "tags": []
   },
   "outputs": [],
   "source": [
    "df_in_out.to_csv('dasdsadsa.csv')"
   ]
  },
  {
   "cell_type": "code",
   "execution_count": 30,
   "id": "1822a570",
   "metadata": {
    "execution": {
     "iopub.execute_input": "2022-03-23T22:37:46.402384Z",
     "iopub.status.busy": "2022-03-23T22:37:46.401706Z",
     "iopub.status.idle": "2022-03-23T22:37:46.412169Z",
     "shell.execute_reply": "2022-03-23T22:37:46.411671Z",
     "shell.execute_reply.started": "2022-03-23T22:28:54.627224Z"
    },
    "id": "GvGMJEWIbbf8",
    "outputId": "9975538b-dafb-4502-bc74-2fa7a13776fb",
    "papermill": {
     "duration": 0.103237,
     "end_time": "2022-03-23T22:37:46.412324",
     "exception": false,
     "start_time": "2022-03-23T22:37:46.309087",
     "status": "completed"
    },
    "tags": []
   },
   "outputs": [
    {
     "name": "stdout",
     "output_type": "stream",
     "text": [
      "<class 'pandas.core.frame.DataFrame'>\n",
      "Int64Index: 97606 entries, 0 to 97605\n",
      "Data columns (total 2 columns):\n",
      " #   Column    Non-Null Count  Dtype  \n",
      "---  ------    --------------  -----  \n",
      " 0   temp_in   20345 non-null  float64\n",
      " 1   temp_out  77261 non-null  float64\n",
      "dtypes: float64(2)\n",
      "memory usage: 2.2 MB\n"
     ]
    }
   ],
   "source": [
    "df_in_out.info()"
   ]
  },
  {
   "cell_type": "code",
   "execution_count": 31,
   "id": "fde9d1a7",
   "metadata": {
    "execution": {
     "iopub.execute_input": "2022-03-23T22:37:46.594182Z",
     "iopub.status.busy": "2022-03-23T22:37:46.593562Z",
     "iopub.status.idle": "2022-03-23T22:37:46.604251Z",
     "shell.execute_reply": "2022-03-23T22:37:46.604764Z",
     "shell.execute_reply.started": "2022-03-23T22:28:54.641056Z"
    },
    "id": "gXtbYeRobbf9",
    "outputId": "0b46abf6-2dc6-4851-a487-fd4a6f650da5",
    "papermill": {
     "duration": 0.103243,
     "end_time": "2022-03-23T22:37:46.604926",
     "exception": false,
     "start_time": "2022-03-23T22:37:46.501683",
     "status": "completed"
    },
    "tags": []
   },
   "outputs": [
    {
     "data": {
      "text/html": [
       "<div>\n",
       "<style scoped>\n",
       "    .dataframe tbody tr th:only-of-type {\n",
       "        vertical-align: middle;\n",
       "    }\n",
       "\n",
       "    .dataframe tbody tr th {\n",
       "        vertical-align: top;\n",
       "    }\n",
       "\n",
       "    .dataframe thead th {\n",
       "        text-align: right;\n",
       "    }\n",
       "</style>\n",
       "<table border=\"1\" class=\"dataframe\">\n",
       "  <thead>\n",
       "    <tr style=\"text-align: right;\">\n",
       "      <th></th>\n",
       "      <th>temp_in</th>\n",
       "      <th>temp_out</th>\n",
       "    </tr>\n",
       "  </thead>\n",
       "  <tbody>\n",
       "    <tr>\n",
       "      <th>0</th>\n",
       "      <td>29.0</td>\n",
       "      <td>0.0</td>\n",
       "    </tr>\n",
       "    <tr>\n",
       "      <th>1</th>\n",
       "      <td>29.0</td>\n",
       "      <td>0.0</td>\n",
       "    </tr>\n",
       "    <tr>\n",
       "      <th>2</th>\n",
       "      <td>0.0</td>\n",
       "      <td>41.0</td>\n",
       "    </tr>\n",
       "    <tr>\n",
       "      <th>3</th>\n",
       "      <td>0.0</td>\n",
       "      <td>41.0</td>\n",
       "    </tr>\n",
       "    <tr>\n",
       "      <th>4</th>\n",
       "      <td>31.0</td>\n",
       "      <td>0.0</td>\n",
       "    </tr>\n",
       "  </tbody>\n",
       "</table>\n",
       "</div>"
      ],
      "text/plain": [
       "   temp_in  temp_out\n",
       "0     29.0       0.0\n",
       "1     29.0       0.0\n",
       "2      0.0      41.0\n",
       "3      0.0      41.0\n",
       "4     31.0       0.0"
      ]
     },
     "execution_count": 31,
     "metadata": {},
     "output_type": "execute_result"
    }
   ],
   "source": [
    "#Substituindo Nan por zero\n",
    "df_in_out=df_in_out.fillna(0)\n",
    "df_in_out.head()"
   ]
  },
  {
   "cell_type": "code",
   "execution_count": 32,
   "id": "37a6e1b5",
   "metadata": {
    "execution": {
     "iopub.execute_input": "2022-03-23T22:37:46.788469Z",
     "iopub.status.busy": "2022-03-23T22:37:46.787663Z",
     "iopub.status.idle": "2022-03-23T22:37:47.298714Z",
     "shell.execute_reply": "2022-03-23T22:37:47.298031Z",
     "shell.execute_reply.started": "2022-03-23T22:28:54.660951Z"
    },
    "id": "pt7lcgIZbbf9",
    "papermill": {
     "duration": 0.604732,
     "end_time": "2022-03-23T22:37:47.298857",
     "exception": false,
     "start_time": "2022-03-23T22:37:46.694125",
     "status": "completed"
    },
    "tags": []
   },
   "outputs": [],
   "source": [
    "#aplicando o teste estatístico ANOVA\n",
    "import scipy.stats as stats"
   ]
  },
  {
   "cell_type": "code",
   "execution_count": 33,
   "id": "fa6d2adf",
   "metadata": {
    "execution": {
     "iopub.execute_input": "2022-03-23T22:37:47.482524Z",
     "iopub.status.busy": "2022-03-23T22:37:47.481890Z",
     "iopub.status.idle": "2022-03-23T22:37:47.488721Z",
     "shell.execute_reply": "2022-03-23T22:37:47.489167Z",
     "shell.execute_reply.started": "2022-03-23T22:28:54.667340Z"
    },
    "id": "E0Nm0ZoLbbf9",
    "outputId": "415250df-d190-45ba-dec2-4e1865df4f1c",
    "papermill": {
     "duration": 0.100414,
     "end_time": "2022-03-23T22:37:47.489360",
     "exception": false,
     "start_time": "2022-03-23T22:37:47.388946",
     "status": "completed"
    },
    "tags": []
   },
   "outputs": [
    {
     "data": {
      "text/plain": [
       "F_onewayResult(statistic=122923.701048226, pvalue=0.0)"
      ]
     },
     "execution_count": 33,
     "metadata": {},
     "output_type": "execute_result"
    }
   ],
   "source": [
    "#stats.f_oneway(data_group1, data_group2, data_group3, data_groupN)\n",
    "stats.f_oneway(df_in_out[\"temp_in\"], df_in_out[\"temp_out\"])"
   ]
  },
  {
   "cell_type": "code",
   "execution_count": 34,
   "id": "1bb33b04",
   "metadata": {
    "execution": {
     "iopub.execute_input": "2022-03-23T22:37:47.675147Z",
     "iopub.status.busy": "2022-03-23T22:37:47.674209Z",
     "iopub.status.idle": "2022-03-23T22:37:47.716964Z",
     "shell.execute_reply": "2022-03-23T22:37:47.717507Z",
     "shell.execute_reply.started": "2022-03-23T22:28:54.682639Z"
    },
    "id": "liusdHEWbbf-",
    "papermill": {
     "duration": 0.138656,
     "end_time": "2022-03-23T22:37:47.717694",
     "exception": false,
     "start_time": "2022-03-23T22:37:47.579038",
     "status": "completed"
    },
    "tags": []
   },
   "outputs": [],
   "source": [
    "#aplicando o teste de tukey\n",
    "from statsmodels.stats.multicomp import pairwise_tukeyhsd\n",
    "from statsmodels.stats.multicomp import MultiComparison"
   ]
  },
  {
   "cell_type": "code",
   "execution_count": 35,
   "id": "5f87d851",
   "metadata": {
    "execution": {
     "iopub.execute_input": "2022-03-23T22:37:47.904369Z",
     "iopub.status.busy": "2022-03-23T22:37:47.903630Z",
     "iopub.status.idle": "2022-03-23T22:37:48.036385Z",
     "shell.execute_reply": "2022-03-23T22:37:48.035599Z",
     "shell.execute_reply.started": "2022-03-23T22:28:54.691200Z"
    },
    "id": "Ij5rBQpLbbf-",
    "papermill": {
     "duration": 0.228508,
     "end_time": "2022-03-23T22:37:48.036535",
     "exception": false,
     "start_time": "2022-03-23T22:37:47.808027",
     "status": "completed"
    },
    "tags": []
   },
   "outputs": [],
   "source": [
    "#preparação do dataframe\n",
    "from sklearn import preprocessing\n",
    "new_df_IoT=IOT_temp"
   ]
  },
  {
   "cell_type": "code",
   "execution_count": 36,
   "id": "a7b627c0",
   "metadata": {
    "execution": {
     "iopub.execute_input": "2022-03-23T22:37:48.227803Z",
     "iopub.status.busy": "2022-03-23T22:37:48.227137Z",
     "iopub.status.idle": "2022-03-23T22:37:48.230567Z",
     "shell.execute_reply": "2022-03-23T22:37:48.230037Z",
     "shell.execute_reply.started": "2022-03-23T22:28:54.702464Z"
    },
    "id": "xhrzEkaAbbf-",
    "outputId": "d9f56df3-7ace-4628-c5c7-496fc5b65cd7",
    "papermill": {
     "duration": 0.104045,
     "end_time": "2022-03-23T22:37:48.230705",
     "exception": false,
     "start_time": "2022-03-23T22:37:48.126660",
     "status": "completed"
    },
    "tags": []
   },
   "outputs": [
    {
     "data": {
      "text/html": [
       "<div>\n",
       "<style scoped>\n",
       "    .dataframe tbody tr th:only-of-type {\n",
       "        vertical-align: middle;\n",
       "    }\n",
       "\n",
       "    .dataframe tbody tr th {\n",
       "        vertical-align: top;\n",
       "    }\n",
       "\n",
       "    .dataframe thead th {\n",
       "        text-align: right;\n",
       "    }\n",
       "</style>\n",
       "<table border=\"1\" class=\"dataframe\">\n",
       "  <thead>\n",
       "    <tr style=\"text-align: right;\">\n",
       "      <th></th>\n",
       "      <th>id</th>\n",
       "      <th>room_id/id</th>\n",
       "      <th>noted_date</th>\n",
       "      <th>temp</th>\n",
       "      <th>out/in</th>\n",
       "    </tr>\n",
       "  </thead>\n",
       "  <tbody>\n",
       "    <tr>\n",
       "      <th>0</th>\n",
       "      <td>__export__.temp_log_196134_bd201015</td>\n",
       "      <td>Room Admin</td>\n",
       "      <td>08-12-2018 09:30</td>\n",
       "      <td>29</td>\n",
       "      <td>In</td>\n",
       "    </tr>\n",
       "    <tr>\n",
       "      <th>1</th>\n",
       "      <td>__export__.temp_log_196131_7bca51bc</td>\n",
       "      <td>Room Admin</td>\n",
       "      <td>08-12-2018 09:30</td>\n",
       "      <td>29</td>\n",
       "      <td>In</td>\n",
       "    </tr>\n",
       "    <tr>\n",
       "      <th>2</th>\n",
       "      <td>__export__.temp_log_196127_522915e3</td>\n",
       "      <td>Room Admin</td>\n",
       "      <td>08-12-2018 09:29</td>\n",
       "      <td>41</td>\n",
       "      <td>Out</td>\n",
       "    </tr>\n",
       "    <tr>\n",
       "      <th>3</th>\n",
       "      <td>__export__.temp_log_196128_be0919cf</td>\n",
       "      <td>Room Admin</td>\n",
       "      <td>08-12-2018 09:29</td>\n",
       "      <td>41</td>\n",
       "      <td>Out</td>\n",
       "    </tr>\n",
       "    <tr>\n",
       "      <th>4</th>\n",
       "      <td>__export__.temp_log_196126_d30b72fb</td>\n",
       "      <td>Room Admin</td>\n",
       "      <td>08-12-2018 09:29</td>\n",
       "      <td>31</td>\n",
       "      <td>In</td>\n",
       "    </tr>\n",
       "  </tbody>\n",
       "</table>\n",
       "</div>"
      ],
      "text/plain": [
       "                                    id  room_id/id        noted_date  temp  \\\n",
       "0  __export__.temp_log_196134_bd201015  Room Admin  08-12-2018 09:30    29   \n",
       "1  __export__.temp_log_196131_7bca51bc  Room Admin  08-12-2018 09:30    29   \n",
       "2  __export__.temp_log_196127_522915e3  Room Admin  08-12-2018 09:29    41   \n",
       "3  __export__.temp_log_196128_be0919cf  Room Admin  08-12-2018 09:29    41   \n",
       "4  __export__.temp_log_196126_d30b72fb  Room Admin  08-12-2018 09:29    31   \n",
       "\n",
       "  out/in  \n",
       "0     In  \n",
       "1     In  \n",
       "2    Out  \n",
       "3    Out  \n",
       "4     In  "
      ]
     },
     "execution_count": 36,
     "metadata": {},
     "output_type": "execute_result"
    }
   ],
   "source": [
    "new_df_IoT.head()"
   ]
  },
  {
   "cell_type": "code",
   "execution_count": 37,
   "id": "e205ee09",
   "metadata": {
    "execution": {
     "iopub.execute_input": "2022-03-23T22:37:48.415225Z",
     "iopub.status.busy": "2022-03-23T22:37:48.414576Z",
     "iopub.status.idle": "2022-03-23T22:37:48.416354Z",
     "shell.execute_reply": "2022-03-23T22:37:48.416801Z",
     "shell.execute_reply.started": "2022-03-23T22:28:54.719864Z"
    },
    "id": "mm10H_SWbbf-",
    "papermill": {
     "duration": 0.096055,
     "end_time": "2022-03-23T22:37:48.416964",
     "exception": false,
     "start_time": "2022-03-23T22:37:48.320909",
     "status": "completed"
    },
    "tags": []
   },
   "outputs": [],
   "source": [
    "#realizando Lebel_encoder\n",
    "le = preprocessing.LabelEncoder()"
   ]
  },
  {
   "cell_type": "code",
   "execution_count": 38,
   "id": "3d4d518b",
   "metadata": {
    "execution": {
     "iopub.execute_input": "2022-03-23T22:37:48.601103Z",
     "iopub.status.busy": "2022-03-23T22:37:48.600457Z",
     "iopub.status.idle": "2022-03-23T22:37:48.611140Z",
     "shell.execute_reply": "2022-03-23T22:37:48.611762Z",
     "shell.execute_reply.started": "2022-03-23T22:28:54.730818Z"
    },
    "id": "JZUlmpjfbbf-",
    "outputId": "b6fc9c46-68c1-4537-ad3d-687dbb790622",
    "papermill": {
     "duration": 0.105016,
     "end_time": "2022-03-23T22:37:48.611931",
     "exception": false,
     "start_time": "2022-03-23T22:37:48.506915",
     "status": "completed"
    },
    "tags": []
   },
   "outputs": [
    {
     "data": {
      "text/plain": [
       "LabelEncoder()"
      ]
     },
     "execution_count": 38,
     "metadata": {},
     "output_type": "execute_result"
    }
   ],
   "source": [
    "#encontra a quantidade de classes existente\n",
    "le.fit(new_df_IoT[\"out/in\"])"
   ]
  },
  {
   "cell_type": "code",
   "execution_count": 39,
   "id": "dc7b8697",
   "metadata": {
    "execution": {
     "iopub.execute_input": "2022-03-23T22:37:48.799181Z",
     "iopub.status.busy": "2022-03-23T22:37:48.798552Z",
     "iopub.status.idle": "2022-03-23T22:37:48.802585Z",
     "shell.execute_reply": "2022-03-23T22:37:48.803166Z",
     "shell.execute_reply.started": "2022-03-23T22:28:54.752504Z"
    },
    "id": "pbB_LVyTbbf_",
    "outputId": "95d4478c-fdc9-4afc-823c-bb0c6c3bca62",
    "papermill": {
     "duration": 0.1006,
     "end_time": "2022-03-23T22:37:48.803350",
     "exception": false,
     "start_time": "2022-03-23T22:37:48.702750",
     "status": "completed"
    },
    "tags": []
   },
   "outputs": [
    {
     "data": {
      "text/plain": [
       "['In', 'Out']"
      ]
     },
     "execution_count": 39,
     "metadata": {},
     "output_type": "execute_result"
    }
   ],
   "source": [
    "#mostra as classes existentes\n",
    "list(le.classes_)"
   ]
  },
  {
   "cell_type": "code",
   "execution_count": 40,
   "id": "2399e46b",
   "metadata": {
    "execution": {
     "iopub.execute_input": "2022-03-23T22:37:48.988220Z",
     "iopub.status.busy": "2022-03-23T22:37:48.987541Z",
     "iopub.status.idle": "2022-03-23T22:37:49.017117Z",
     "shell.execute_reply": "2022-03-23T22:37:49.017660Z",
     "shell.execute_reply.started": "2022-03-23T22:28:54.763554Z"
    },
    "id": "cKdib6hbbbf_",
    "papermill": {
     "duration": 0.123918,
     "end_time": "2022-03-23T22:37:49.017838",
     "exception": false,
     "start_time": "2022-03-23T22:37:48.893920",
     "status": "completed"
    },
    "tags": []
   },
   "outputs": [],
   "source": [
    "#cria a coluna com as classes\n",
    "new_df_IoT[\"classes\"]=le.transform(new_df_IoT[\"out/in\"])"
   ]
  },
  {
   "cell_type": "code",
   "execution_count": 41,
   "id": "322cdacf",
   "metadata": {
    "execution": {
     "iopub.execute_input": "2022-03-23T22:37:49.206507Z",
     "iopub.status.busy": "2022-03-23T22:37:49.205802Z",
     "iopub.status.idle": "2022-03-23T22:37:49.218117Z",
     "shell.execute_reply": "2022-03-23T22:37:49.218610Z",
     "shell.execute_reply.started": "2022-03-23T22:28:54.791963Z"
    },
    "id": "XSzLOVaYbbf_",
    "outputId": "357413b5-6658-4266-956a-a77b071416af",
    "papermill": {
     "duration": 0.109623,
     "end_time": "2022-03-23T22:37:49.218787",
     "exception": false,
     "start_time": "2022-03-23T22:37:49.109164",
     "status": "completed"
    },
    "tags": []
   },
   "outputs": [
    {
     "data": {
      "text/html": [
       "<div>\n",
       "<style scoped>\n",
       "    .dataframe tbody tr th:only-of-type {\n",
       "        vertical-align: middle;\n",
       "    }\n",
       "\n",
       "    .dataframe tbody tr th {\n",
       "        vertical-align: top;\n",
       "    }\n",
       "\n",
       "    .dataframe thead th {\n",
       "        text-align: right;\n",
       "    }\n",
       "</style>\n",
       "<table border=\"1\" class=\"dataframe\">\n",
       "  <thead>\n",
       "    <tr style=\"text-align: right;\">\n",
       "      <th></th>\n",
       "      <th>id</th>\n",
       "      <th>room_id/id</th>\n",
       "      <th>noted_date</th>\n",
       "      <th>temp</th>\n",
       "      <th>out/in</th>\n",
       "      <th>classes</th>\n",
       "    </tr>\n",
       "  </thead>\n",
       "  <tbody>\n",
       "    <tr>\n",
       "      <th>0</th>\n",
       "      <td>__export__.temp_log_196134_bd201015</td>\n",
       "      <td>Room Admin</td>\n",
       "      <td>08-12-2018 09:30</td>\n",
       "      <td>29</td>\n",
       "      <td>In</td>\n",
       "      <td>0</td>\n",
       "    </tr>\n",
       "    <tr>\n",
       "      <th>1</th>\n",
       "      <td>__export__.temp_log_196131_7bca51bc</td>\n",
       "      <td>Room Admin</td>\n",
       "      <td>08-12-2018 09:30</td>\n",
       "      <td>29</td>\n",
       "      <td>In</td>\n",
       "      <td>0</td>\n",
       "    </tr>\n",
       "    <tr>\n",
       "      <th>2</th>\n",
       "      <td>__export__.temp_log_196127_522915e3</td>\n",
       "      <td>Room Admin</td>\n",
       "      <td>08-12-2018 09:29</td>\n",
       "      <td>41</td>\n",
       "      <td>Out</td>\n",
       "      <td>1</td>\n",
       "    </tr>\n",
       "    <tr>\n",
       "      <th>3</th>\n",
       "      <td>__export__.temp_log_196128_be0919cf</td>\n",
       "      <td>Room Admin</td>\n",
       "      <td>08-12-2018 09:29</td>\n",
       "      <td>41</td>\n",
       "      <td>Out</td>\n",
       "      <td>1</td>\n",
       "    </tr>\n",
       "    <tr>\n",
       "      <th>4</th>\n",
       "      <td>__export__.temp_log_196126_d30b72fb</td>\n",
       "      <td>Room Admin</td>\n",
       "      <td>08-12-2018 09:29</td>\n",
       "      <td>31</td>\n",
       "      <td>In</td>\n",
       "      <td>0</td>\n",
       "    </tr>\n",
       "  </tbody>\n",
       "</table>\n",
       "</div>"
      ],
      "text/plain": [
       "                                    id  room_id/id        noted_date  temp  \\\n",
       "0  __export__.temp_log_196134_bd201015  Room Admin  08-12-2018 09:30    29   \n",
       "1  __export__.temp_log_196131_7bca51bc  Room Admin  08-12-2018 09:30    29   \n",
       "2  __export__.temp_log_196127_522915e3  Room Admin  08-12-2018 09:29    41   \n",
       "3  __export__.temp_log_196128_be0919cf  Room Admin  08-12-2018 09:29    41   \n",
       "4  __export__.temp_log_196126_d30b72fb  Room Admin  08-12-2018 09:29    31   \n",
       "\n",
       "  out/in  classes  \n",
       "0     In        0  \n",
       "1     In        0  \n",
       "2    Out        1  \n",
       "3    Out        1  \n",
       "4     In        0  "
      ]
     },
     "execution_count": 41,
     "metadata": {},
     "output_type": "execute_result"
    }
   ],
   "source": [
    "new_df_IoT.head()"
   ]
  },
  {
   "cell_type": "code",
   "execution_count": 42,
   "id": "aaa798ab",
   "metadata": {
    "execution": {
     "iopub.execute_input": "2022-03-23T22:37:49.411797Z",
     "iopub.status.busy": "2022-03-23T22:37:49.411051Z",
     "iopub.status.idle": "2022-03-23T22:37:49.432237Z",
     "shell.execute_reply": "2022-03-23T22:37:49.432744Z",
     "shell.execute_reply.started": "2022-03-23T22:28:54.805460Z"
    },
    "id": "RfWjb19abbf_",
    "outputId": "ee679e7f-88d0-45b2-dc3d-5a49982cc485",
    "papermill": {
     "duration": 0.123225,
     "end_time": "2022-03-23T22:37:49.432924",
     "exception": false,
     "start_time": "2022-03-23T22:37:49.309699",
     "status": "completed"
    },
    "tags": []
   },
   "outputs": [
    {
     "data": {
      "text/plain": [
       "id            97606\n",
       "tratamento    97606\n",
       "resultado     97606\n",
       "dtype: int64"
      ]
     },
     "execution_count": 42,
     "metadata": {},
     "output_type": "execute_result"
    }
   ],
   "source": [
    "#criando o dataset para o teste de tukey\n",
    "df_tukey_in=pd.DataFrame({\"id\":0,\"tratamento\": \"in\",\"resultado\":df_in_out.temp_in})\n",
    "df_tukey_out=pd.DataFrame({\"id\":1,\"tratamento\": \"out\",\"resultado\":df_in_out.temp_out})\n",
    "\n",
    "df_tukey_in.count()"
   ]
  },
  {
   "cell_type": "code",
   "execution_count": 43,
   "id": "31281af0",
   "metadata": {
    "execution": {
     "iopub.execute_input": "2022-03-23T22:37:49.621786Z",
     "iopub.status.busy": "2022-03-23T22:37:49.621069Z",
     "iopub.status.idle": "2022-03-23T22:37:49.638056Z",
     "shell.execute_reply": "2022-03-23T22:37:49.638536Z",
     "shell.execute_reply.started": "2022-03-23T22:28:54.831015Z"
    },
    "id": "NLI32ZnjbbgA",
    "outputId": "67ad1c80-b019-44f7-9c88-6b2c9cf51493",
    "papermill": {
     "duration": 0.114039,
     "end_time": "2022-03-23T22:37:49.638711",
     "exception": false,
     "start_time": "2022-03-23T22:37:49.524672",
     "status": "completed"
    },
    "tags": []
   },
   "outputs": [
    {
     "data": {
      "text/plain": [
       "id            97606\n",
       "tratamento    97606\n",
       "resultado     97606\n",
       "dtype: int64"
      ]
     },
     "execution_count": 43,
     "metadata": {},
     "output_type": "execute_result"
    }
   ],
   "source": [
    "df_tukey_out.count()"
   ]
  },
  {
   "cell_type": "code",
   "execution_count": 44,
   "id": "ecf034b6",
   "metadata": {
    "execution": {
     "iopub.execute_input": "2022-03-23T22:37:49.829755Z",
     "iopub.status.busy": "2022-03-23T22:37:49.828925Z",
     "iopub.status.idle": "2022-03-23T22:37:49.846833Z",
     "shell.execute_reply": "2022-03-23T22:37:49.847350Z",
     "shell.execute_reply.started": "2022-03-23T22:28:54.846971Z"
    },
    "id": "6oBOy2ulbbgA",
    "outputId": "d171ac99-0aa3-4699-8739-9cbe5c998f7e",
    "papermill": {
     "duration": 0.115868,
     "end_time": "2022-03-23T22:37:49.847517",
     "exception": false,
     "start_time": "2022-03-23T22:37:49.731649",
     "status": "completed"
    },
    "tags": []
   },
   "outputs": [
    {
     "data": {
      "text/html": [
       "<div>\n",
       "<style scoped>\n",
       "    .dataframe tbody tr th:only-of-type {\n",
       "        vertical-align: middle;\n",
       "    }\n",
       "\n",
       "    .dataframe tbody tr th {\n",
       "        vertical-align: top;\n",
       "    }\n",
       "\n",
       "    .dataframe thead th {\n",
       "        text-align: right;\n",
       "    }\n",
       "</style>\n",
       "<table border=\"1\" class=\"dataframe\">\n",
       "  <thead>\n",
       "    <tr style=\"text-align: right;\">\n",
       "      <th></th>\n",
       "      <th>id</th>\n",
       "      <th>tratamento</th>\n",
       "      <th>resultado</th>\n",
       "    </tr>\n",
       "  </thead>\n",
       "  <tbody>\n",
       "    <tr>\n",
       "      <th>0</th>\n",
       "      <td>0</td>\n",
       "      <td>in</td>\n",
       "      <td>29.0</td>\n",
       "    </tr>\n",
       "    <tr>\n",
       "      <th>1</th>\n",
       "      <td>0</td>\n",
       "      <td>in</td>\n",
       "      <td>29.0</td>\n",
       "    </tr>\n",
       "    <tr>\n",
       "      <th>2</th>\n",
       "      <td>0</td>\n",
       "      <td>in</td>\n",
       "      <td>0.0</td>\n",
       "    </tr>\n",
       "    <tr>\n",
       "      <th>3</th>\n",
       "      <td>0</td>\n",
       "      <td>in</td>\n",
       "      <td>0.0</td>\n",
       "    </tr>\n",
       "    <tr>\n",
       "      <th>4</th>\n",
       "      <td>0</td>\n",
       "      <td>in</td>\n",
       "      <td>31.0</td>\n",
       "    </tr>\n",
       "  </tbody>\n",
       "</table>\n",
       "</div>"
      ],
      "text/plain": [
       "   id tratamento  resultado\n",
       "0   0         in       29.0\n",
       "1   0         in       29.0\n",
       "2   0         in        0.0\n",
       "3   0         in        0.0\n",
       "4   0         in       31.0"
      ]
     },
     "execution_count": 44,
     "metadata": {},
     "output_type": "execute_result"
    }
   ],
   "source": [
    "#concatenando os dfs\n",
    "df_tukey=pd.concat([df_tukey_in, df_tukey_out])\n",
    "df_tukey=df_tukey.reset_index(drop=True)\n",
    "df_tukey.head()"
   ]
  },
  {
   "cell_type": "markdown",
   "id": "59df831d",
   "metadata": {
    "id": "fqd6s485bbgA",
    "papermill": {
     "duration": 0.093273,
     "end_time": "2022-03-23T22:37:50.035103",
     "exception": false,
     "start_time": "2022-03-23T22:37:49.941830",
     "status": "completed"
    },
    "tags": []
   },
   "source": [
    "***Criando um modelo de previsão de séries temporais***"
   ]
  },
  {
   "cell_type": "code",
   "execution_count": 45,
   "id": "de596afe",
   "metadata": {
    "execution": {
     "iopub.execute_input": "2022-03-23T22:37:50.241085Z",
     "iopub.status.busy": "2022-03-23T22:37:50.238686Z",
     "iopub.status.idle": "2022-03-23T22:37:50.273590Z",
     "shell.execute_reply": "2022-03-23T22:37:50.274497Z",
     "shell.execute_reply.started": "2022-03-23T22:28:54.865818Z"
    },
    "id": "igsvQnGEbbgA",
    "papermill": {
     "duration": 0.145811,
     "end_time": "2022-03-23T22:37:50.274742",
     "exception": false,
     "start_time": "2022-03-23T22:37:50.128931",
     "status": "completed"
    },
    "tags": []
   },
   "outputs": [],
   "source": [
    "#coleta a serie temporal para o modelo de previsão\n",
    "df_out_new=IOT_temp[IOT_temp[\"out/in\"]==\"Out\"][\"temp\"].values"
   ]
  },
  {
   "cell_type": "code",
   "execution_count": 46,
   "id": "5dfe1780",
   "metadata": {
    "execution": {
     "iopub.execute_input": "2022-03-23T22:37:50.470366Z",
     "iopub.status.busy": "2022-03-23T22:37:50.469668Z",
     "iopub.status.idle": "2022-03-23T22:37:50.474031Z",
     "shell.execute_reply": "2022-03-23T22:37:50.474624Z",
     "shell.execute_reply.started": "2022-03-23T22:28:54.886124Z"
    },
    "id": "2I99jsw-bbgB",
    "outputId": "2080bdff-ffc1-400d-9b14-89ffd0d238a3",
    "papermill": {
     "duration": 0.101248,
     "end_time": "2022-03-23T22:37:50.474789",
     "exception": false,
     "start_time": "2022-03-23T22:37:50.373541",
     "status": "completed"
    },
    "tags": []
   },
   "outputs": [
    {
     "data": {
      "text/plain": [
       "array([41, 41, 42, ..., 32, 32, 32])"
      ]
     },
     "execution_count": 46,
     "metadata": {},
     "output_type": "execute_result"
    }
   ],
   "source": [
    "df_out_new"
   ]
  },
  {
   "cell_type": "code",
   "execution_count": 47,
   "id": "ca2bedf0",
   "metadata": {
    "execution": {
     "iopub.execute_input": "2022-03-23T22:37:50.667806Z",
     "iopub.status.busy": "2022-03-23T22:37:50.665506Z",
     "iopub.status.idle": "2022-03-23T22:37:50.670520Z",
     "shell.execute_reply": "2022-03-23T22:37:50.671015Z",
     "shell.execute_reply.started": "2022-03-23T22:28:54.895535Z"
    },
    "id": "GzzB3KgZbbgB",
    "papermill": {
     "duration": 0.103003,
     "end_time": "2022-03-23T22:37:50.671181",
     "exception": false,
     "start_time": "2022-03-23T22:37:50.568178",
     "status": "completed"
    },
    "tags": []
   },
   "outputs": [],
   "source": [
    "#Transformando os dados\n",
    "from sklearn.preprocessing import MinMaxScaler\n",
    "scaler = MinMaxScaler(feature_range=(0, 1))\n",
    "serie_out = scaler.fit_transform(df_out_new.reshape(-1, 1))"
   ]
  },
  {
   "cell_type": "code",
   "execution_count": 48,
   "id": "76d89dad",
   "metadata": {
    "execution": {
     "iopub.execute_input": "2022-03-23T22:37:50.861548Z",
     "iopub.status.busy": "2022-03-23T22:37:50.860798Z",
     "iopub.status.idle": "2022-03-23T22:37:50.866608Z",
     "shell.execute_reply": "2022-03-23T22:37:50.866068Z",
     "shell.execute_reply.started": "2022-03-23T22:28:54.904748Z"
    },
    "id": "Jf4IeJDibbgB",
    "outputId": "f3c4c8c2-a23a-4a73-ff20-5c84d22352b1",
    "papermill": {
     "duration": 0.102076,
     "end_time": "2022-03-23T22:37:50.866750",
     "exception": false,
     "start_time": "2022-03-23T22:37:50.764674",
     "status": "completed"
    },
    "tags": []
   },
   "outputs": [
    {
     "data": {
      "text/plain": [
       "array([[0.62962963],\n",
       "       [0.62962963],\n",
       "       [0.66666667],\n",
       "       ...,\n",
       "       [0.2962963 ],\n",
       "       [0.2962963 ],\n",
       "       [0.2962963 ]])"
      ]
     },
     "execution_count": 48,
     "metadata": {},
     "output_type": "execute_result"
    }
   ],
   "source": [
    "serie_out"
   ]
  },
  {
   "cell_type": "code",
   "execution_count": 49,
   "id": "d009a0f3",
   "metadata": {
    "execution": {
     "iopub.execute_input": "2022-03-23T22:37:51.062278Z",
     "iopub.status.busy": "2022-03-23T22:37:51.061600Z",
     "iopub.status.idle": "2022-03-23T22:37:51.064261Z",
     "shell.execute_reply": "2022-03-23T22:37:51.063742Z",
     "shell.execute_reply.started": "2022-03-23T22:28:54.923171Z"
    },
    "id": "YjNmhLfEbbgB",
    "papermill": {
     "duration": 0.103009,
     "end_time": "2022-03-23T22:37:51.064418",
     "exception": false,
     "start_time": "2022-03-23T22:37:50.961409",
     "status": "completed"
    },
    "tags": []
   },
   "outputs": [],
   "source": [
    "#define a quantidade de dados para treinamento e teste\n",
    "train=serie_out[:int(len(serie_out)*0.7)]\n",
    "test=serie_out[int(len(serie_out)*0.7):]"
   ]
  },
  {
   "cell_type": "code",
   "execution_count": 50,
   "id": "41252bce",
   "metadata": {
    "execution": {
     "iopub.execute_input": "2022-03-23T22:37:51.257578Z",
     "iopub.status.busy": "2022-03-23T22:37:51.256893Z",
     "iopub.status.idle": "2022-03-23T22:37:51.263008Z",
     "shell.execute_reply": "2022-03-23T22:37:51.262497Z",
     "shell.execute_reply.started": "2022-03-23T22:28:54.931770Z"
    },
    "id": "xcm5D88pbbgB",
    "outputId": "2a5cce8a-4ea5-403d-8117-dc86eaefd64a",
    "papermill": {
     "duration": 0.103846,
     "end_time": "2022-03-23T22:37:51.263154",
     "exception": false,
     "start_time": "2022-03-23T22:37:51.159308",
     "status": "completed"
    },
    "tags": []
   },
   "outputs": [
    {
     "data": {
      "text/plain": [
       "array([[0.62962963],\n",
       "       [0.62962963],\n",
       "       [0.66666667],\n",
       "       ...,\n",
       "       [0.11111111],\n",
       "       [0.14814815],\n",
       "       [0.11111111]])"
      ]
     },
     "execution_count": 50,
     "metadata": {},
     "output_type": "execute_result"
    }
   ],
   "source": [
    "train"
   ]
  },
  {
   "cell_type": "code",
   "execution_count": 51,
   "id": "ee04834f",
   "metadata": {
    "execution": {
     "iopub.execute_input": "2022-03-23T22:37:51.460572Z",
     "iopub.status.busy": "2022-03-23T22:37:51.459858Z",
     "iopub.status.idle": "2022-03-23T22:37:51.462465Z",
     "shell.execute_reply": "2022-03-23T22:37:51.462962Z",
     "shell.execute_reply.started": "2022-03-23T22:28:54.946954Z"
    },
    "id": "VaZX5ngFbbgC",
    "outputId": "c2dc6030-955c-46c4-c643-be6f82fb29e6",
    "papermill": {
     "duration": 0.103661,
     "end_time": "2022-03-23T22:37:51.463130",
     "exception": false,
     "start_time": "2022-03-23T22:37:51.359469",
     "status": "completed"
    },
    "tags": []
   },
   "outputs": [
    {
     "data": {
      "text/plain": [
       "array([[0.14814815],\n",
       "       [0.11111111],\n",
       "       [0.14814815],\n",
       "       ...,\n",
       "       [0.2962963 ],\n",
       "       [0.2962963 ],\n",
       "       [0.2962963 ]])"
      ]
     },
     "execution_count": 51,
     "metadata": {},
     "output_type": "execute_result"
    }
   ],
   "source": [
    "test"
   ]
  },
  {
   "cell_type": "code",
   "execution_count": 52,
   "id": "f73f1e7d",
   "metadata": {
    "execution": {
     "iopub.execute_input": "2022-03-23T22:37:51.661163Z",
     "iopub.status.busy": "2022-03-23T22:37:51.658622Z",
     "iopub.status.idle": "2022-03-23T22:37:51.664641Z",
     "shell.execute_reply": "2022-03-23T22:37:51.665409Z",
     "shell.execute_reply.started": "2022-03-23T22:28:54.961575Z"
    },
    "id": "v8VmLvfabbgC",
    "outputId": "b0e5a787-0e02-4554-e290-3df3f63903e8",
    "papermill": {
     "duration": 0.106787,
     "end_time": "2022-03-23T22:37:51.665637",
     "exception": false,
     "start_time": "2022-03-23T22:37:51.558850",
     "status": "completed"
    },
    "tags": []
   },
   "outputs": [
    {
     "name": "stdout",
     "output_type": "stream",
     "text": [
      "54082 23179\n"
     ]
    }
   ],
   "source": [
    "#Tamanho do teste e treinamento\n",
    "print(len(train), len(test))"
   ]
  },
  {
   "cell_type": "code",
   "execution_count": 53,
   "id": "267a9422",
   "metadata": {
    "execution": {
     "iopub.execute_input": "2022-03-23T22:37:51.862515Z",
     "iopub.status.busy": "2022-03-23T22:37:51.861847Z",
     "iopub.status.idle": "2022-03-23T22:37:51.867044Z",
     "shell.execute_reply": "2022-03-23T22:37:51.867591Z",
     "shell.execute_reply.started": "2022-03-23T22:28:54.971722Z"
    },
    "id": "e9k_-l02bbgC",
    "papermill": {
     "duration": 0.105481,
     "end_time": "2022-03-23T22:37:51.867756",
     "exception": false,
     "start_time": "2022-03-23T22:37:51.762275",
     "status": "completed"
    },
    "tags": []
   },
   "outputs": [],
   "source": [
    "#define o intervalo a ser utilizado para entrada da rede neural LSTM\n",
    "def create_dataset(dataset, look_back=1):\n",
    "    dataX, dataY = [], []\n",
    "    for i in range(len(dataset)-look_back-1):\n",
    "        a = dataset[i:(i+look_back), 0]\n",
    "        dataX.append(a)\n",
    "        dataY.append(dataset[i + look_back, 0])\n",
    "    return np.array(dataX), np.array(dataY)"
   ]
  },
  {
   "cell_type": "code",
   "execution_count": 54,
   "id": "42ae6bfe",
   "metadata": {
    "execution": {
     "iopub.execute_input": "2022-03-23T22:37:52.067872Z",
     "iopub.status.busy": "2022-03-23T22:37:52.067137Z",
     "iopub.status.idle": "2022-03-23T22:37:52.202583Z",
     "shell.execute_reply": "2022-03-23T22:37:52.201962Z",
     "shell.execute_reply.started": "2022-03-23T22:28:54.982008Z"
    },
    "id": "BiJkgYvSbbgC",
    "papermill": {
     "duration": 0.239081,
     "end_time": "2022-03-23T22:37:52.202739",
     "exception": false,
     "start_time": "2022-03-23T22:37:51.963658",
     "status": "completed"
    },
    "tags": []
   },
   "outputs": [],
   "source": [
    "look_back = 3\n",
    "trainX, trainY = create_dataset(train, look_back)\n",
    "testX, testY = create_dataset(test, look_back)"
   ]
  },
  {
   "cell_type": "code",
   "execution_count": null,
   "id": "6071be51",
   "metadata": {
    "id": "nXLMjwbkbbgD",
    "papermill": {
     "duration": 0.095343,
     "end_time": "2022-03-23T22:37:52.394397",
     "exception": false,
     "start_time": "2022-03-23T22:37:52.299054",
     "status": "completed"
    },
    "tags": []
   },
   "outputs": [],
   "source": []
  },
  {
   "cell_type": "code",
   "execution_count": 55,
   "id": "12934148",
   "metadata": {
    "execution": {
     "iopub.execute_input": "2022-03-23T22:37:52.590185Z",
     "iopub.status.busy": "2022-03-23T22:37:52.589231Z",
     "iopub.status.idle": "2022-03-23T22:37:52.595262Z",
     "shell.execute_reply": "2022-03-23T22:37:52.595831Z",
     "shell.execute_reply.started": "2022-03-23T22:28:55.088259Z"
    },
    "id": "DNlcmApIbbgD",
    "outputId": "b9a26e60-bbfb-4142-d8dd-2d35deffaaa6",
    "papermill": {
     "duration": 0.104992,
     "end_time": "2022-03-23T22:37:52.596006",
     "exception": false,
     "start_time": "2022-03-23T22:37:52.491014",
     "status": "completed"
    },
    "tags": []
   },
   "outputs": [
    {
     "data": {
      "text/plain": [
       "(array([[0.62962963, 0.62962963, 0.66666667],\n",
       "        [0.62962963, 0.66666667, 0.66666667],\n",
       "        [0.66666667, 0.66666667, 0.62962963],\n",
       "        ...,\n",
       "        [0.11111111, 0.14814815, 0.11111111],\n",
       "        [0.14814815, 0.11111111, 0.14814815],\n",
       "        [0.11111111, 0.14814815, 0.11111111]]),\n",
       " array([0.66666667, 0.62962963, 0.62962963, ..., 0.14814815, 0.11111111,\n",
       "        0.14814815]))"
      ]
     },
     "execution_count": 55,
     "metadata": {},
     "output_type": "execute_result"
    }
   ],
   "source": [
    "trainX,trainY"
   ]
  },
  {
   "cell_type": "code",
   "execution_count": 56,
   "id": "a5333086",
   "metadata": {
    "execution": {
     "iopub.execute_input": "2022-03-23T22:37:52.794347Z",
     "iopub.status.busy": "2022-03-23T22:37:52.793296Z",
     "iopub.status.idle": "2022-03-23T22:37:52.798746Z",
     "shell.execute_reply": "2022-03-23T22:37:52.799261Z",
     "shell.execute_reply.started": "2022-03-23T22:28:55.098508Z"
    },
    "id": "CLd9NI-jbbgD",
    "outputId": "a4276973-fb89-4ac6-8222-ff493732ce37",
    "papermill": {
     "duration": 0.10649,
     "end_time": "2022-03-23T22:37:52.799438",
     "exception": false,
     "start_time": "2022-03-23T22:37:52.692948",
     "status": "completed"
    },
    "tags": []
   },
   "outputs": [
    {
     "data": {
      "text/plain": [
       "486702"
      ]
     },
     "execution_count": 56,
     "metadata": {},
     "output_type": "execute_result"
    }
   ],
   "source": [
    "54078*9"
   ]
  },
  {
   "cell_type": "code",
   "execution_count": 57,
   "id": "d6e8120b",
   "metadata": {
    "execution": {
     "iopub.execute_input": "2022-03-23T22:37:52.998619Z",
     "iopub.status.busy": "2022-03-23T22:37:52.997815Z",
     "iopub.status.idle": "2022-03-23T22:37:53.000185Z",
     "shell.execute_reply": "2022-03-23T22:37:53.000709Z",
     "shell.execute_reply.started": "2022-03-23T22:28:55.108526Z"
    },
    "id": "GffHoTBzbbgD",
    "papermill": {
     "duration": 0.10531,
     "end_time": "2022-03-23T22:37:53.000878",
     "exception": false,
     "start_time": "2022-03-23T22:37:52.895568",
     "status": "completed"
    },
    "tags": []
   },
   "outputs": [],
   "source": [
    "#colocando os dados no formato para entrada na rede LSTM em deep learning\n",
    "trainX = np.reshape(trainX, (trainX.shape[0], look_back, 1))\n",
    "testX = np.reshape(testX, (testX.shape[0], look_back, 1))"
   ]
  },
  {
   "cell_type": "markdown",
   "id": "6fa67afb",
   "metadata": {
    "id": "VKY3bQLnbbgE",
    "papermill": {
     "duration": 0.096564,
     "end_time": "2022-03-23T22:37:53.193183",
     "exception": false,
     "start_time": "2022-03-23T22:37:53.096619",
     "status": "completed"
    },
    "tags": []
   },
   "source": [
    "Definindo o modelo LSTM"
   ]
  },
  {
   "cell_type": "code",
   "execution_count": 58,
   "id": "13fd8995",
   "metadata": {
    "execution": {
     "iopub.execute_input": "2022-03-23T22:37:53.390014Z",
     "iopub.status.busy": "2022-03-23T22:37:53.389009Z",
     "iopub.status.idle": "2022-03-23T22:37:53.392706Z",
     "shell.execute_reply": "2022-03-23T22:37:53.392188Z",
     "shell.execute_reply.started": "2022-03-23T22:28:55.120860Z"
    },
    "id": "ntGMbAi5bbgE",
    "papermill": {
     "duration": 0.10351,
     "end_time": "2022-03-23T22:37:53.392848",
     "exception": false,
     "start_time": "2022-03-23T22:37:53.289338",
     "status": "completed"
    },
    "tags": []
   },
   "outputs": [],
   "source": [
    "from tensorflow.keras.models import Sequential"
   ]
  },
  {
   "cell_type": "code",
   "execution_count": 59,
   "id": "5e1cea02",
   "metadata": {
    "execution": {
     "iopub.execute_input": "2022-03-23T22:37:53.590841Z",
     "iopub.status.busy": "2022-03-23T22:37:53.588411Z",
     "iopub.status.idle": "2022-03-23T22:37:53.977378Z",
     "shell.execute_reply": "2022-03-23T22:37:53.976732Z",
     "shell.execute_reply.started": "2022-03-23T22:28:55.132388Z"
    },
    "id": "nfR_CkyLbbgE",
    "papermill": {
     "duration": 0.48757,
     "end_time": "2022-03-23T22:37:53.977521",
     "exception": false,
     "start_time": "2022-03-23T22:37:53.489951",
     "status": "completed"
    },
    "tags": []
   },
   "outputs": [
    {
     "name": "stderr",
     "output_type": "stream",
     "text": [
      "2022-03-23 22:37:53.624571: I tensorflow/core/common_runtime/process_util.cc:146] Creating new thread pool with default inter op setting: 2. Tune using inter_op_parallelism_threads for best performance.\n"
     ]
    }
   ],
   "source": [
    "model = Sequential()\n",
    "model.add(LSTM(4, input_shape=(look_back,1)))\n",
    "model.add(Dense(1))\n",
    "model.compile(loss='mean_squared_error', optimizer='adam')"
   ]
  },
  {
   "cell_type": "code",
   "execution_count": 60,
   "id": "e2a24181",
   "metadata": {
    "execution": {
     "iopub.execute_input": "2022-03-23T22:37:54.176377Z",
     "iopub.status.busy": "2022-03-23T22:37:54.175643Z",
     "iopub.status.idle": "2022-03-23T22:37:54.182219Z",
     "shell.execute_reply": "2022-03-23T22:37:54.182975Z",
     "shell.execute_reply.started": "2022-03-23T22:28:55.373535Z"
    },
    "id": "vYkllM_8bbgE",
    "outputId": "6faa18fd-2d59-496c-a150-e39d582ae23a",
    "papermill": {
     "duration": 0.107976,
     "end_time": "2022-03-23T22:37:54.183226",
     "exception": false,
     "start_time": "2022-03-23T22:37:54.075250",
     "status": "completed"
    },
    "tags": []
   },
   "outputs": [
    {
     "name": "stdout",
     "output_type": "stream",
     "text": [
      "Model: \"sequential\"\n",
      "_________________________________________________________________\n",
      "Layer (type)                 Output Shape              Param #   \n",
      "=================================================================\n",
      "lstm (LSTM)                  (None, 4)                 96        \n",
      "_________________________________________________________________\n",
      "dense (Dense)                (None, 1)                 5         \n",
      "=================================================================\n",
      "Total params: 101\n",
      "Trainable params: 101\n",
      "Non-trainable params: 0\n",
      "_________________________________________________________________\n"
     ]
    }
   ],
   "source": [
    "#mostra o modelo\n",
    "model.summary()"
   ]
  },
  {
   "cell_type": "code",
   "execution_count": 61,
   "id": "027a4841",
   "metadata": {
    "execution": {
     "iopub.execute_input": "2022-03-23T22:37:54.380105Z",
     "iopub.status.busy": "2022-03-23T22:37:54.379506Z",
     "iopub.status.idle": "2022-03-23T22:44:46.657646Z",
     "shell.execute_reply": "2022-03-23T22:44:46.657083Z",
     "shell.execute_reply.started": "2022-03-23T22:28:55.381800Z"
    },
    "id": "QduPI0LqbbgE",
    "outputId": "334aaa06-e515-45cf-dee4-3775e83b946f",
    "papermill": {
     "duration": 412.376741,
     "end_time": "2022-03-23T22:44:46.657787",
     "exception": false,
     "start_time": "2022-03-23T22:37:54.281046",
     "status": "completed"
    },
    "tags": []
   },
   "outputs": [
    {
     "name": "stderr",
     "output_type": "stream",
     "text": [
      "2022-03-23 22:37:54.433937: I tensorflow/compiler/mlir/mlir_graph_optimization_pass.cc:185] None of the MLIR Optimization Passes are enabled (registered 2)\n"
     ]
    },
    {
     "name": "stdout",
     "output_type": "stream",
     "text": [
      "Epoch 1/5\n",
      "54078/54078 - 82s - loss: 0.0013\n",
      "Epoch 2/5\n",
      "54078/54078 - 80s - loss: 5.3957e-04\n",
      "Epoch 3/5\n",
      "54078/54078 - 82s - loss: 5.2841e-04\n",
      "Epoch 4/5\n",
      "54078/54078 - 84s - loss: 5.2490e-04\n",
      "Epoch 5/5\n",
      "54078/54078 - 84s - loss: 5.1965e-04\n"
     ]
    },
    {
     "data": {
      "text/plain": [
       "<keras.callbacks.History at 0x7f907a2a4d90>"
      ]
     },
     "execution_count": 61,
     "metadata": {},
     "output_type": "execute_result"
    }
   ],
   "source": [
    "#Treina o modelo\n",
    "model.fit(trainX, trainY, epochs=5, batch_size=1, verbose=2)"
   ]
  },
  {
   "cell_type": "code",
   "execution_count": 62,
   "id": "f8679131",
   "metadata": {
    "execution": {
     "iopub.execute_input": "2022-03-23T22:44:46.869024Z",
     "iopub.status.busy": "2022-03-23T22:44:46.867917Z",
     "iopub.status.idle": "2022-03-23T22:44:49.645737Z",
     "shell.execute_reply": "2022-03-23T22:44:49.645082Z",
     "shell.execute_reply.started": "2022-03-23T22:36:53.251590Z"
    },
    "id": "njdqpLtZbbgF",
    "papermill": {
     "duration": 2.885873,
     "end_time": "2022-03-23T22:44:49.645901",
     "exception": false,
     "start_time": "2022-03-23T22:44:46.760028",
     "status": "completed"
    },
    "tags": []
   },
   "outputs": [],
   "source": [
    "# realizando as previsões\n",
    "trainPredict = model.predict(trainX)\n",
    "testPredict = model.predict(testX)\n"
   ]
  },
  {
   "cell_type": "code",
   "execution_count": 63,
   "id": "78239fd7",
   "metadata": {
    "execution": {
     "iopub.execute_input": "2022-03-23T22:44:49.871251Z",
     "iopub.status.busy": "2022-03-23T22:44:49.870479Z",
     "iopub.status.idle": "2022-03-23T22:44:49.874762Z",
     "shell.execute_reply": "2022-03-23T22:44:49.875367Z",
     "shell.execute_reply.started": "2022-03-23T22:36:56.845182Z"
    },
    "id": "Y-gMs4uwbbgF",
    "papermill": {
     "duration": 0.11953,
     "end_time": "2022-03-23T22:44:49.875545",
     "exception": false,
     "start_time": "2022-03-23T22:44:49.756015",
     "status": "completed"
    },
    "tags": []
   },
   "outputs": [],
   "source": [
    "# invertendo as previsões\n",
    "trainPredict = scaler.inverse_transform(trainPredict)\n",
    "trainY = scaler.inverse_transform([trainY])\n",
    "testPredict = scaler.inverse_transform(testPredict)\n",
    "testY = scaler.inverse_transform([testY])\n"
   ]
  },
  {
   "cell_type": "code",
   "execution_count": 64,
   "id": "b7f8d2af",
   "metadata": {
    "execution": {
     "iopub.execute_input": "2022-03-23T22:44:50.098430Z",
     "iopub.status.busy": "2022-03-23T22:44:50.097720Z",
     "iopub.status.idle": "2022-03-23T22:44:50.136541Z",
     "shell.execute_reply": "2022-03-23T22:44:50.135929Z",
     "shell.execute_reply.started": "2022-03-23T22:36:56.857156Z"
    },
    "id": "tl788LEpbbgF",
    "papermill": {
     "duration": 0.152312,
     "end_time": "2022-03-23T22:44:50.136698",
     "exception": false,
     "start_time": "2022-03-23T22:44:49.984386",
     "status": "completed"
    },
    "tags": []
   },
   "outputs": [],
   "source": [
    "import math\n",
    "from sklearn.metrics import mean_squared_error"
   ]
  },
  {
   "cell_type": "code",
   "execution_count": 65,
   "id": "397a1b17",
   "metadata": {
    "execution": {
     "iopub.execute_input": "2022-03-23T22:44:50.364826Z",
     "iopub.status.busy": "2022-03-23T22:44:50.364063Z",
     "iopub.status.idle": "2022-03-23T22:44:50.372321Z",
     "shell.execute_reply": "2022-03-23T22:44:50.371717Z",
     "shell.execute_reply.started": "2022-03-23T22:36:56.866286Z"
    },
    "id": "nYQs07SkbbgF",
    "papermill": {
     "duration": 0.124917,
     "end_time": "2022-03-23T22:44:50.372466",
     "exception": false,
     "start_time": "2022-03-23T22:44:50.247549",
     "status": "completed"
    },
    "tags": []
   },
   "outputs": [
    {
     "name": "stdout",
     "output_type": "stream",
     "text": [
      "Pontuação para o treinamento: 0.60 RMSE\n",
      "Pontuação para o teste: 0.69 RMSE\n"
     ]
    }
   ],
   "source": [
    "# Calculando os erros de previsão\n",
    "trainScore = math.sqrt(mean_squared_error(trainY[0], trainPredict[:,0]))\n",
    "print('Pontuação para o treinamento: %.2f RMSE' % (trainScore))\n",
    "testScore = math.sqrt(mean_squared_error(testY[0], testPredict[:,0]))\n",
    "print('Pontuação para o teste: %.2f RMSE' % (testScore))"
   ]
  },
  {
   "cell_type": "code",
   "execution_count": 66,
   "id": "9866e4b9",
   "metadata": {
    "execution": {
     "iopub.execute_input": "2022-03-23T22:44:50.586671Z",
     "iopub.status.busy": "2022-03-23T22:44:50.585998Z",
     "iopub.status.idle": "2022-03-23T22:44:50.591392Z",
     "shell.execute_reply": "2022-03-23T22:44:50.590862Z",
     "shell.execute_reply.started": "2022-03-23T22:36:56.881724Z"
    },
    "id": "JQ12n0KYbbgF",
    "papermill": {
     "duration": 0.114085,
     "end_time": "2022-03-23T22:44:50.591534",
     "exception": false,
     "start_time": "2022-03-23T22:44:50.477449",
     "status": "completed"
    },
    "tags": []
   },
   "outputs": [],
   "source": [
    "# realizando shift dos valores para construir o plot dos valores\n",
    "trainPredictPlot = np.empty_like(serie_out)\n",
    "trainPredictPlot[:, :] = np.nan\n",
    "trainPredictPlot[look_back:len(trainPredict)+look_back, :] = trainPredict\n"
   ]
  },
  {
   "cell_type": "code",
   "execution_count": 67,
   "id": "d0fa0efe",
   "metadata": {
    "execution": {
     "iopub.execute_input": "2022-03-23T22:44:50.814724Z",
     "iopub.status.busy": "2022-03-23T22:44:50.813933Z",
     "iopub.status.idle": "2022-03-23T22:44:50.819981Z",
     "shell.execute_reply": "2022-03-23T22:44:50.819236Z",
     "shell.execute_reply.started": "2022-03-23T22:36:56.896276Z"
    },
    "id": "P25tr8WlbbgG",
    "papermill": {
     "duration": 0.119154,
     "end_time": "2022-03-23T22:44:50.820153",
     "exception": false,
     "start_time": "2022-03-23T22:44:50.700999",
     "status": "completed"
    },
    "tags": []
   },
   "outputs": [],
   "source": [
    "# realizando shift dos dados de previsão para o treinamento\n",
    "testPredictPlot = np.empty_like(serie_out)\n",
    "testPredictPlot[:, :] = np.nan\n",
    "testPredictPlot[len(trainPredict)+(look_back*2)+1:len(serie_out)-1, :] = testPredict\n"
   ]
  },
  {
   "cell_type": "code",
   "execution_count": 68,
   "id": "dad55b8e",
   "metadata": {
    "execution": {
     "iopub.execute_input": "2022-03-23T22:44:51.048598Z",
     "iopub.status.busy": "2022-03-23T22:44:51.047889Z",
     "iopub.status.idle": "2022-03-23T22:44:51.934908Z",
     "shell.execute_reply": "2022-03-23T22:44:51.935639Z",
     "shell.execute_reply.started": "2022-03-23T22:36:56.912661Z"
    },
    "id": "V6AiPTnIbbgG",
    "papermill": {
     "duration": 1.001898,
     "end_time": "2022-03-23T22:44:51.935857",
     "exception": false,
     "start_time": "2022-03-23T22:44:50.933959",
     "status": "completed"
    },
    "tags": []
   },
   "outputs": [
    {
     "data": {
      "image/png": "[encoded data removed]",
      "text/plain": [
       "<Figure size 432x288 with 1 Axes>"
      ]
     },
     "metadata": {
      "needs_background": "light"
     },
     "output_type": "display_data"
    }
   ],
   "source": [
    "# realizando plot dos dados para treinamento e teste\n",
    "plt.plot(scaler.inverse_transform(serie_out))\n",
    "plt.plot(trainPredictPlot)\n",
    "plt.plot(testPredictPlot)\n",
    "plt.legend([\"Real\",\"Previsao Treinamento\",\"Previsão Teste\"])\n",
    "plt.show()"
   ]
  }
 ],
 "metadata": {
  "kernelspec": {
   "display_name": "Python 3",
   "language": "python",
   "name": "python3"
  },
  "language_info": {
   "codemirror_mode": {
    "name": "ipython",
    "version": 3
   },
   "file_extension": ".py",
   "mimetype": "text/x-python",
   "name": "python",
   "nbconvert_exporter": "python",
   "pygments_lexer": "ipython3",
   "version": "3.7.12"
  },
  "papermill": {
   "default_parameters": {},
   "duration": 455.932288,
   "end_time": "2022-03-23T22:44:54.857936",
   "environment_variables": {},
   "exception": null,
   "input_path": "__notebook__.ipynb",
   "output_path": "__notebook__.ipynb",
   "parameters": {},
   "start_time": "2022-03-23T22:37:18.925648",
   "version": "2.3.3"
  }
 },
 "nbformat": 4,
 "nbformat_minor": 5
}
